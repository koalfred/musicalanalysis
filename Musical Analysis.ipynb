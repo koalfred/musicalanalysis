{
 "cells": [
  {
   "cell_type": "markdown",
   "id": "61885de9",
   "metadata": {},
   "source": [
    "## References\n",
    "\n",
    "Where I learned to join CSVs: https://www.geeksforgeeks.org/how-to-merge-multiple-csv-files-into-a-single-pandas-dataframe/\n",
    "\n",
    "Where I learned to export CSVs: https://pandas.pydata.org/docs/reference/api/pandas.DataFrame.to_csv.html\n",
    "\n",
    "Where I learned to set an ID for a specific column: https://sparkbyexamples.com/pandas/pandas-set-index-to-column-in-dataframe/\n",
    "\n",
    "Where I learned to clean data to make sure that they are integers: https://sparkbyexamples.com/pandas/pandas-convert-string-to-integer/\n",
    "\n",
    "Where I learned to sort values using pandas: https://pandas.pydata.org/docs/reference/api/pandas.DataFrame.sort_values.html"
   ]
  },
  {
   "cell_type": "code",
   "execution_count": 1,
   "id": "9a992e77",
   "metadata": {},
   "outputs": [
    {
     "name": "stdout",
     "output_type": "stream",
     "text": [
      "     Unnamed: 0                                              title  \\\n",
      "0             1                                   Hey, Soul Sister   \n",
      "1             2                               Love The Way You Lie   \n",
      "2             3                                            TiK ToK   \n",
      "3             4                                        Bad Romance   \n",
      "4             5                               Just the Way You Are   \n",
      "..          ...                                                ...   \n",
      "598         599                Find U Again (feat. Camila Cabello)   \n",
      "599         600      Cross Me (feat. Chance the Rapper & PnB Rock)   \n",
      "600         601  No Brainer (feat. Justin Bieber, Chance the Ra...   \n",
      "601         602    Nothing Breaks Like a Heart (feat. Miley Cyrus)   \n",
      "602         603                                   Kills You Slowly   \n",
      "\n",
      "               artist        top genre  year  bpm  nrgy  dnce  dB  live  val  \\\n",
      "0               Train       neo mellow  2010   97    89    67  -4     8   80   \n",
      "1              Eminem  detroit hip hop  2010   87    93    75  -5    52   64   \n",
      "2               Kesha        dance pop  2010  120    84    76  -3    29   71   \n",
      "3           Lady Gaga        dance pop  2010  119    92    70  -4     8   71   \n",
      "4          Bruno Mars              pop  2010  109    84    64  -5     9   43   \n",
      "..                ...              ...   ...  ...   ...   ...  ..   ...  ...   \n",
      "598       Mark Ronson        dance pop  2019  104    66    61  -7    20   16   \n",
      "599        Ed Sheeran              pop  2019   95    79    75  -6     7   61   \n",
      "600         DJ Khaled        dance pop  2019  136    76    53  -5     9   65   \n",
      "601       Mark Ronson        dance pop  2019  114    79    60  -6    42   24   \n",
      "602  The Chainsmokers       electropop  2019  150    44    70  -9    13   23   \n",
      "\n",
      "     dur  acous  spch  pop   id  \n",
      "0    217     19     4   83    0  \n",
      "1    263     24    23   82    1  \n",
      "2    200     10    14   80    2  \n",
      "3    295      0     4   79    3  \n",
      "4    221      2     4   78    4  \n",
      "..   ...    ...   ...  ...  ...  \n",
      "598  176      1     3   75  598  \n",
      "599  206     21    12   75  599  \n",
      "600  260      7    34   70  600  \n",
      "601  217      1     7   69  601  \n",
      "602  213      6     6   67  602  \n",
      "\n",
      "[603 rows x 16 columns]\n"
     ]
    }
   ],
   "source": [
    "import pandas as pd\n",
    "\n",
    "all_top_songs = pd.concat(map(pd.read_csv, ['2010.csv', '2011.csv', '2012.csv', '2013.csv', '2014.csv', '2015.csv', '2016.csv', '2017.csv', '2018.csv', '2019.csv']), ignore_index = True)\n",
    "all_top_songs['id'] = all_top_songs.index\n",
    "all_top_songs[['id', 'year', 'bpm', 'nrgy', 'dnce', 'dB', 'live', 'val', 'dur', 'acous', 'spch', 'pop']] = all_top_songs[['id', 'year', 'bpm', 'nrgy', 'dnce', 'dB', 'live', 'val', 'dur', 'acous', 'spch', 'pop']].astype(int)\n",
    "print(all_top_songs)"
   ]
  },
  {
   "cell_type": "markdown",
   "id": "598e40f9",
   "metadata": {},
   "source": [
    "## What is the most popular song in the dataset?"
   ]
  },
  {
   "cell_type": "markdown",
   "id": "8b741eba",
   "metadata": {},
   "source": [
    "The code below shows all songs, sorted by popularity."
   ]
  },
  {
   "cell_type": "code",
   "execution_count": 2,
   "id": "8b910248",
   "metadata": {},
   "outputs": [
    {
     "data": {
      "text/html": [
       "<div>\n",
       "<style scoped>\n",
       "    .dataframe tbody tr th:only-of-type {\n",
       "        vertical-align: middle;\n",
       "    }\n",
       "\n",
       "    .dataframe tbody tr th {\n",
       "        vertical-align: top;\n",
       "    }\n",
       "\n",
       "    .dataframe thead th {\n",
       "        text-align: right;\n",
       "    }\n",
       "</style>\n",
       "<table border=\"1\" class=\"dataframe\">\n",
       "  <thead>\n",
       "    <tr style=\"text-align: right;\">\n",
       "      <th></th>\n",
       "      <th>Unnamed: 0</th>\n",
       "      <th>title</th>\n",
       "      <th>artist</th>\n",
       "      <th>top genre</th>\n",
       "      <th>year</th>\n",
       "      <th>bpm</th>\n",
       "      <th>nrgy</th>\n",
       "      <th>dnce</th>\n",
       "      <th>dB</th>\n",
       "      <th>live</th>\n",
       "      <th>val</th>\n",
       "      <th>dur</th>\n",
       "      <th>acous</th>\n",
       "      <th>spch</th>\n",
       "      <th>pop</th>\n",
       "      <th>id</th>\n",
       "    </tr>\n",
       "  </thead>\n",
       "  <tbody>\n",
       "    <tr>\n",
       "      <th>572</th>\n",
       "      <td>573</td>\n",
       "      <td>Memories</td>\n",
       "      <td>Maroon 5</td>\n",
       "      <td>pop</td>\n",
       "      <td>2019</td>\n",
       "      <td>91</td>\n",
       "      <td>32</td>\n",
       "      <td>76</td>\n",
       "      <td>-7</td>\n",
       "      <td>8</td>\n",
       "      <td>57</td>\n",
       "      <td>189</td>\n",
       "      <td>84</td>\n",
       "      <td>5</td>\n",
       "      <td>99</td>\n",
       "      <td>572</td>\n",
       "    </tr>\n",
       "    <tr>\n",
       "      <th>573</th>\n",
       "      <td>574</td>\n",
       "      <td>Lose You To Love Me</td>\n",
       "      <td>Selena Gomez</td>\n",
       "      <td>dance pop</td>\n",
       "      <td>2019</td>\n",
       "      <td>102</td>\n",
       "      <td>34</td>\n",
       "      <td>51</td>\n",
       "      <td>-9</td>\n",
       "      <td>21</td>\n",
       "      <td>9</td>\n",
       "      <td>206</td>\n",
       "      <td>58</td>\n",
       "      <td>4</td>\n",
       "      <td>97</td>\n",
       "      <td>573</td>\n",
       "    </tr>\n",
       "    <tr>\n",
       "      <th>574</th>\n",
       "      <td>575</td>\n",
       "      <td>Someone You Loved</td>\n",
       "      <td>Lewis Capaldi</td>\n",
       "      <td>pop</td>\n",
       "      <td>2019</td>\n",
       "      <td>110</td>\n",
       "      <td>41</td>\n",
       "      <td>50</td>\n",
       "      <td>-6</td>\n",
       "      <td>11</td>\n",
       "      <td>45</td>\n",
       "      <td>182</td>\n",
       "      <td>75</td>\n",
       "      <td>3</td>\n",
       "      <td>96</td>\n",
       "      <td>574</td>\n",
       "    </tr>\n",
       "    <tr>\n",
       "      <th>575</th>\n",
       "      <td>576</td>\n",
       "      <td>Señorita</td>\n",
       "      <td>Shawn Mendes</td>\n",
       "      <td>canadian pop</td>\n",
       "      <td>2019</td>\n",
       "      <td>117</td>\n",
       "      <td>54</td>\n",
       "      <td>76</td>\n",
       "      <td>-6</td>\n",
       "      <td>9</td>\n",
       "      <td>75</td>\n",
       "      <td>191</td>\n",
       "      <td>4</td>\n",
       "      <td>3</td>\n",
       "      <td>95</td>\n",
       "      <td>575</td>\n",
       "    </tr>\n",
       "    <tr>\n",
       "      <th>576</th>\n",
       "      <td>577</td>\n",
       "      <td>How Do You Sleep?</td>\n",
       "      <td>Sam Smith</td>\n",
       "      <td>pop</td>\n",
       "      <td>2019</td>\n",
       "      <td>111</td>\n",
       "      <td>68</td>\n",
       "      <td>48</td>\n",
       "      <td>-5</td>\n",
       "      <td>8</td>\n",
       "      <td>35</td>\n",
       "      <td>202</td>\n",
       "      <td>15</td>\n",
       "      <td>9</td>\n",
       "      <td>93</td>\n",
       "      <td>576</td>\n",
       "    </tr>\n",
       "    <tr>\n",
       "      <th>...</th>\n",
       "      <td>...</td>\n",
       "      <td>...</td>\n",
       "      <td>...</td>\n",
       "      <td>...</td>\n",
       "      <td>...</td>\n",
       "      <td>...</td>\n",
       "      <td>...</td>\n",
       "      <td>...</td>\n",
       "      <td>...</td>\n",
       "      <td>...</td>\n",
       "      <td>...</td>\n",
       "      <td>...</td>\n",
       "      <td>...</td>\n",
       "      <td>...</td>\n",
       "      <td>...</td>\n",
       "      <td>...</td>\n",
       "    </tr>\n",
       "    <tr>\n",
       "      <th>50</th>\n",
       "      <td>51</td>\n",
       "      <td>Hello</td>\n",
       "      <td>Martin Solveig</td>\n",
       "      <td>big room</td>\n",
       "      <td>2010</td>\n",
       "      <td>128</td>\n",
       "      <td>98</td>\n",
       "      <td>67</td>\n",
       "      <td>-3</td>\n",
       "      <td>10</td>\n",
       "      <td>45</td>\n",
       "      <td>191</td>\n",
       "      <td>1</td>\n",
       "      <td>3</td>\n",
       "      <td>0</td>\n",
       "      <td>50</td>\n",
       "    </tr>\n",
       "    <tr>\n",
       "      <th>362</th>\n",
       "      <td>363</td>\n",
       "      <td>L.A.LOVE (la la)</td>\n",
       "      <td>Fergie</td>\n",
       "      <td>dance pop</td>\n",
       "      <td>2015</td>\n",
       "      <td>202</td>\n",
       "      <td>39</td>\n",
       "      <td>48</td>\n",
       "      <td>-8</td>\n",
       "      <td>26</td>\n",
       "      <td>27</td>\n",
       "      <td>193</td>\n",
       "      <td>2</td>\n",
       "      <td>9</td>\n",
       "      <td>0</td>\n",
       "      <td>362</td>\n",
       "    </tr>\n",
       "    <tr>\n",
       "      <th>442</th>\n",
       "      <td>443</td>\n",
       "      <td>Million Years Ago</td>\n",
       "      <td>Adele</td>\n",
       "      <td>british soul</td>\n",
       "      <td>2016</td>\n",
       "      <td>0</td>\n",
       "      <td>0</td>\n",
       "      <td>0</td>\n",
       "      <td>-60</td>\n",
       "      <td>0</td>\n",
       "      <td>0</td>\n",
       "      <td>227</td>\n",
       "      <td>0</td>\n",
       "      <td>0</td>\n",
       "      <td>0</td>\n",
       "      <td>442</td>\n",
       "    </tr>\n",
       "    <tr>\n",
       "      <th>138</th>\n",
       "      <td>139</td>\n",
       "      <td>Blow Me (One Last Kiss)</td>\n",
       "      <td>P!nk</td>\n",
       "      <td>dance pop</td>\n",
       "      <td>2012</td>\n",
       "      <td>114</td>\n",
       "      <td>92</td>\n",
       "      <td>60</td>\n",
       "      <td>-3</td>\n",
       "      <td>25</td>\n",
       "      <td>75</td>\n",
       "      <td>256</td>\n",
       "      <td>0</td>\n",
       "      <td>4</td>\n",
       "      <td>0</td>\n",
       "      <td>138</td>\n",
       "    </tr>\n",
       "    <tr>\n",
       "      <th>267</th>\n",
       "      <td>268</td>\n",
       "      <td>Not a Bad Thing</td>\n",
       "      <td>Justin Timberlake</td>\n",
       "      <td>dance pop</td>\n",
       "      <td>2014</td>\n",
       "      <td>86</td>\n",
       "      <td>73</td>\n",
       "      <td>59</td>\n",
       "      <td>-6</td>\n",
       "      <td>38</td>\n",
       "      <td>46</td>\n",
       "      <td>266</td>\n",
       "      <td>27</td>\n",
       "      <td>6</td>\n",
       "      <td>0</td>\n",
       "      <td>267</td>\n",
       "    </tr>\n",
       "  </tbody>\n",
       "</table>\n",
       "<p>603 rows × 16 columns</p>\n",
       "</div>"
      ],
      "text/plain": [
       "     Unnamed: 0                    title             artist     top genre  \\\n",
       "572         573                 Memories           Maroon 5           pop   \n",
       "573         574      Lose You To Love Me       Selena Gomez     dance pop   \n",
       "574         575        Someone You Loved      Lewis Capaldi           pop   \n",
       "575         576                 Señorita       Shawn Mendes  canadian pop   \n",
       "576         577        How Do You Sleep?          Sam Smith           pop   \n",
       "..          ...                      ...                ...           ...   \n",
       "50           51                    Hello     Martin Solveig      big room   \n",
       "362         363         L.A.LOVE (la la)             Fergie     dance pop   \n",
       "442         443        Million Years Ago              Adele  british soul   \n",
       "138         139  Blow Me (One Last Kiss)               P!nk     dance pop   \n",
       "267         268          Not a Bad Thing  Justin Timberlake     dance pop   \n",
       "\n",
       "     year  bpm  nrgy  dnce  dB  live  val  dur  acous  spch  pop   id  \n",
       "572  2019   91    32    76  -7     8   57  189     84     5   99  572  \n",
       "573  2019  102    34    51  -9    21    9  206     58     4   97  573  \n",
       "574  2019  110    41    50  -6    11   45  182     75     3   96  574  \n",
       "575  2019  117    54    76  -6     9   75  191      4     3   95  575  \n",
       "576  2019  111    68    48  -5     8   35  202     15     9   93  576  \n",
       "..    ...  ...   ...   ...  ..   ...  ...  ...    ...   ...  ...  ...  \n",
       "50   2010  128    98    67  -3    10   45  191      1     3    0   50  \n",
       "362  2015  202    39    48  -8    26   27  193      2     9    0  362  \n",
       "442  2016    0     0     0 -60     0    0  227      0     0    0  442  \n",
       "138  2012  114    92    60  -3    25   75  256      0     4    0  138  \n",
       "267  2014   86    73    59  -6    38   46  266     27     6    0  267  \n",
       "\n",
       "[603 rows x 16 columns]"
      ]
     },
     "execution_count": 2,
     "metadata": {},
     "output_type": "execute_result"
    }
   ],
   "source": [
    "all_top_songs.sort_values(by='pop', ascending=False)"
   ]
  },
  {
   "cell_type": "markdown",
   "id": "4a351066",
   "metadata": {},
   "source": [
    "The most popular song, with a popular score of 99, is \"Memories\" by Maroon 5."
   ]
  },
  {
   "cell_type": "markdown",
   "id": "32c0fea8",
   "metadata": {},
   "source": [
    "## What artist has the most songs in the dataset?"
   ]
  },
  {
   "cell_type": "markdown",
   "id": "69348bd6",
   "metadata": {},
   "source": [
    "The code below shows the total number of songs each artist has in the dataset, from most to least."
   ]
  },
  {
   "cell_type": "code",
   "execution_count": 3,
   "id": "73897baf",
   "metadata": {},
   "outputs": [
    {
     "data": {
      "text/plain": [
       "artist\n",
       "Katy Perry             17\n",
       "Justin Bieber          16\n",
       "Rihanna                15\n",
       "Maroon 5               15\n",
       "Lady Gaga              14\n",
       "                       ..\n",
       "Iggy Azalea             1\n",
       "5 Seconds of Summer     1\n",
       "Michael Jackson         1\n",
       "Disclosure              1\n",
       "Daddy Yankee            1\n",
       "Name: count, Length: 184, dtype: int64"
      ]
     },
     "execution_count": 3,
     "metadata": {},
     "output_type": "execute_result"
    }
   ],
   "source": [
    "all_top_songs['artist'].value_counts()"
   ]
  },
  {
   "cell_type": "markdown",
   "id": "4bb302e1",
   "metadata": {},
   "source": [
    "Katy Perry has the most songs in the dataset (17)."
   ]
  },
  {
   "cell_type": "markdown",
   "id": "962083ba",
   "metadata": {},
   "source": [
    "## What is the most popular genre of music in the dataset?"
   ]
  },
  {
   "cell_type": "markdown",
   "id": "3f4feb3a",
   "metadata": {},
   "source": [
    "The code belows shows the list of genres of all songs in the dataset."
   ]
  },
  {
   "cell_type": "code",
   "execution_count": 4,
   "id": "fcc904ac",
   "metadata": {},
   "outputs": [
    {
     "data": {
      "text/plain": [
       "top genre\n",
       "dance pop                    327\n",
       "pop                           60\n",
       "canadian pop                  34\n",
       "barbadian pop                 15\n",
       "boy band                      15\n",
       "electropop                    13\n",
       "british soul                  11\n",
       "big room                      10\n",
       "canadian contemporary r&b      9\n",
       "neo mellow                     9\n",
       "art pop                        8\n",
       "complextro                     6\n",
       "hip pop                        6\n",
       "australian dance               6\n",
       "atl hip hop                    5\n",
       "australian pop                 5\n",
       "edm                            5\n",
       "permanent wave                 4\n",
       "latin                          4\n",
       "hip hop                        4\n",
       "colombian pop                  3\n",
       "tropical house                 3\n",
       "brostep                        2\n",
       "downtempo                      2\n",
       "electronic trap                2\n",
       "belgian edm                    2\n",
       "escape room                    2\n",
       "folk-pop                       2\n",
       "electro                        2\n",
       "indie pop                      2\n",
       "detroit hip hop                2\n",
       "candy pop                      2\n",
       "acoustic pop                   2\n",
       "canadian hip hop               2\n",
       "baroque pop                    2\n",
       "celtic rock                    1\n",
       "moroccan pop                   1\n",
       "contemporary country           1\n",
       "chicago rap                    1\n",
       "electro house                  1\n",
       "australian hip hop             1\n",
       "canadian latin                 1\n",
       "house                          1\n",
       "danish pop                     1\n",
       "french indie pop               1\n",
       "alaska indie                   1\n",
       "irish singer-songwriter        1\n",
       "hollywood                      1\n",
       "metropopolis                   1\n",
       "alternative r&b                1\n",
       "Name: count, dtype: int64"
      ]
     },
     "execution_count": 4,
     "metadata": {},
     "output_type": "execute_result"
    }
   ],
   "source": [
    "all_top_songs['top genre'].value_counts()"
   ]
  },
  {
   "cell_type": "markdown",
   "id": "3e0c04af",
   "metadata": {},
   "source": [
    "The most popular genre of music in the dataset is dance pop (327 songs)."
   ]
  },
  {
   "cell_type": "markdown",
   "id": "0532353f",
   "metadata": {},
   "source": [
    "## Are there any songs in the dataset more than once?"
   ]
  },
  {
   "cell_type": "markdown",
   "id": "b1529568",
   "metadata": {},
   "source": [
    "Yes, 19 songs were mentioned twice, as shown below."
   ]
  },
  {
   "cell_type": "code",
   "execution_count": 5,
   "id": "146abb6c",
   "metadata": {},
   "outputs": [
    {
     "data": {
      "text/plain": [
       "title\n",
       "A Little Party Never Killed Nobody (All We Got)    2\n",
       "All I Ask                                          2\n",
       "Kissing Strangers                                  2\n",
       "Written in the Stars (feat. Eric Turner)           2\n",
       "The Hills                                          2\n",
       "Love Yourself                                      2\n",
       "We Are Never Ever Getting Back Together            2\n",
       "Sugar                                              2\n",
       "Say Something                                      2\n",
       "First Time                                         2\n",
       "Stitches                                           2\n",
       "I Like It                                          2\n",
       "Hello                                              2\n",
       "Castle Walls (feat. Christina Aguilera)            2\n",
       "Company                                            2\n",
       "Runnin' (Lose It All)                              2\n",
       "Marry You                                          2\n",
       "Just the Way You Are                               2\n",
       "Here                                               2\n",
       "Name: count, dtype: int64"
      ]
     },
     "execution_count": 5,
     "metadata": {},
     "output_type": "execute_result"
    }
   ],
   "source": [
    "all_top_songs['title'].value_counts().head(19)"
   ]
  },
  {
   "cell_type": "markdown",
   "id": "99be879a",
   "metadata": {},
   "source": [
    "The songs that were mentioned twice were \"A Little Party Never Killed Anybody (All We Got)\", \"All I Ask\", \"Kissing Strangers\", \"Written in the Stars (feat. Eric Turner)\", \"The Hills\", \"Love Yourself\", \"We Are Never Ever Getting Back Together\", \"Sugar\", \"Say Something\", \"First Time\", \"Stitches\", \"I Like It\", \"Hello\", \"Castle Walls (feat. Christina Aguilera)\", \"Company\", \"Runnin' (Lose It All)\", \"Marry You\", \"Just the Way You Are\" and \"Here\"."
   ]
  },
  {
   "cell_type": "markdown",
   "id": "e0417c85",
   "metadata": {},
   "source": [
    "## Is there a relationship between popularity and danceability?"
   ]
  },
  {
   "cell_type": "markdown",
   "id": "8ca49292",
   "metadata": {},
   "source": [
    "The code below shows the top 10 most popular songs and 10 least popular songs respectively."
   ]
  },
  {
   "cell_type": "code",
   "execution_count": 6,
   "id": "4d8a9582",
   "metadata": {},
   "outputs": [
    {
     "data": {
      "text/html": [
       "<div>\n",
       "<style scoped>\n",
       "    .dataframe tbody tr th:only-of-type {\n",
       "        vertical-align: middle;\n",
       "    }\n",
       "\n",
       "    .dataframe tbody tr th {\n",
       "        vertical-align: top;\n",
       "    }\n",
       "\n",
       "    .dataframe thead th {\n",
       "        text-align: right;\n",
       "    }\n",
       "</style>\n",
       "<table border=\"1\" class=\"dataframe\">\n",
       "  <thead>\n",
       "    <tr style=\"text-align: right;\">\n",
       "      <th></th>\n",
       "      <th>Unnamed: 0</th>\n",
       "      <th>title</th>\n",
       "      <th>artist</th>\n",
       "      <th>top genre</th>\n",
       "      <th>year</th>\n",
       "      <th>bpm</th>\n",
       "      <th>nrgy</th>\n",
       "      <th>dnce</th>\n",
       "      <th>dB</th>\n",
       "      <th>live</th>\n",
       "      <th>val</th>\n",
       "      <th>dur</th>\n",
       "      <th>acous</th>\n",
       "      <th>spch</th>\n",
       "      <th>pop</th>\n",
       "      <th>id</th>\n",
       "    </tr>\n",
       "  </thead>\n",
       "  <tbody>\n",
       "    <tr>\n",
       "      <th>572</th>\n",
       "      <td>573</td>\n",
       "      <td>Memories</td>\n",
       "      <td>Maroon 5</td>\n",
       "      <td>pop</td>\n",
       "      <td>2019</td>\n",
       "      <td>91</td>\n",
       "      <td>32</td>\n",
       "      <td>76</td>\n",
       "      <td>-7</td>\n",
       "      <td>8</td>\n",
       "      <td>57</td>\n",
       "      <td>189</td>\n",
       "      <td>84</td>\n",
       "      <td>5</td>\n",
       "      <td>99</td>\n",
       "      <td>572</td>\n",
       "    </tr>\n",
       "    <tr>\n",
       "      <th>573</th>\n",
       "      <td>574</td>\n",
       "      <td>Lose You To Love Me</td>\n",
       "      <td>Selena Gomez</td>\n",
       "      <td>dance pop</td>\n",
       "      <td>2019</td>\n",
       "      <td>102</td>\n",
       "      <td>34</td>\n",
       "      <td>51</td>\n",
       "      <td>-9</td>\n",
       "      <td>21</td>\n",
       "      <td>9</td>\n",
       "      <td>206</td>\n",
       "      <td>58</td>\n",
       "      <td>4</td>\n",
       "      <td>97</td>\n",
       "      <td>573</td>\n",
       "    </tr>\n",
       "    <tr>\n",
       "      <th>574</th>\n",
       "      <td>575</td>\n",
       "      <td>Someone You Loved</td>\n",
       "      <td>Lewis Capaldi</td>\n",
       "      <td>pop</td>\n",
       "      <td>2019</td>\n",
       "      <td>110</td>\n",
       "      <td>41</td>\n",
       "      <td>50</td>\n",
       "      <td>-6</td>\n",
       "      <td>11</td>\n",
       "      <td>45</td>\n",
       "      <td>182</td>\n",
       "      <td>75</td>\n",
       "      <td>3</td>\n",
       "      <td>96</td>\n",
       "      <td>574</td>\n",
       "    </tr>\n",
       "    <tr>\n",
       "      <th>575</th>\n",
       "      <td>576</td>\n",
       "      <td>Señorita</td>\n",
       "      <td>Shawn Mendes</td>\n",
       "      <td>canadian pop</td>\n",
       "      <td>2019</td>\n",
       "      <td>117</td>\n",
       "      <td>54</td>\n",
       "      <td>76</td>\n",
       "      <td>-6</td>\n",
       "      <td>9</td>\n",
       "      <td>75</td>\n",
       "      <td>191</td>\n",
       "      <td>4</td>\n",
       "      <td>3</td>\n",
       "      <td>95</td>\n",
       "      <td>575</td>\n",
       "    </tr>\n",
       "    <tr>\n",
       "      <th>576</th>\n",
       "      <td>577</td>\n",
       "      <td>How Do You Sleep?</td>\n",
       "      <td>Sam Smith</td>\n",
       "      <td>pop</td>\n",
       "      <td>2019</td>\n",
       "      <td>111</td>\n",
       "      <td>68</td>\n",
       "      <td>48</td>\n",
       "      <td>-5</td>\n",
       "      <td>8</td>\n",
       "      <td>35</td>\n",
       "      <td>202</td>\n",
       "      <td>15</td>\n",
       "      <td>9</td>\n",
       "      <td>93</td>\n",
       "      <td>576</td>\n",
       "    </tr>\n",
       "    <tr>\n",
       "      <th>578</th>\n",
       "      <td>579</td>\n",
       "      <td>Trampoline (with ZAYN)</td>\n",
       "      <td>SHAED</td>\n",
       "      <td>electropop</td>\n",
       "      <td>2019</td>\n",
       "      <td>127</td>\n",
       "      <td>46</td>\n",
       "      <td>62</td>\n",
       "      <td>-6</td>\n",
       "      <td>14</td>\n",
       "      <td>50</td>\n",
       "      <td>184</td>\n",
       "      <td>56</td>\n",
       "      <td>3</td>\n",
       "      <td>92</td>\n",
       "      <td>578</td>\n",
       "    </tr>\n",
       "    <tr>\n",
       "      <th>577</th>\n",
       "      <td>578</td>\n",
       "      <td>South of the Border (feat. Camila Cabello &amp; Ca...</td>\n",
       "      <td>Ed Sheeran</td>\n",
       "      <td>pop</td>\n",
       "      <td>2019</td>\n",
       "      <td>98</td>\n",
       "      <td>62</td>\n",
       "      <td>86</td>\n",
       "      <td>-6</td>\n",
       "      <td>9</td>\n",
       "      <td>67</td>\n",
       "      <td>204</td>\n",
       "      <td>15</td>\n",
       "      <td>8</td>\n",
       "      <td>92</td>\n",
       "      <td>577</td>\n",
       "    </tr>\n",
       "    <tr>\n",
       "      <th>580</th>\n",
       "      <td>581</td>\n",
       "      <td>Truth Hurts</td>\n",
       "      <td>Lizzo</td>\n",
       "      <td>escape room</td>\n",
       "      <td>2019</td>\n",
       "      <td>158</td>\n",
       "      <td>62</td>\n",
       "      <td>72</td>\n",
       "      <td>-3</td>\n",
       "      <td>12</td>\n",
       "      <td>41</td>\n",
       "      <td>173</td>\n",
       "      <td>11</td>\n",
       "      <td>11</td>\n",
       "      <td>90</td>\n",
       "      <td>580</td>\n",
       "    </tr>\n",
       "    <tr>\n",
       "      <th>581</th>\n",
       "      <td>582</td>\n",
       "      <td>Good as Hell (feat. Ariana Grande) - Remix</td>\n",
       "      <td>Lizzo</td>\n",
       "      <td>escape room</td>\n",
       "      <td>2019</td>\n",
       "      <td>96</td>\n",
       "      <td>89</td>\n",
       "      <td>67</td>\n",
       "      <td>-3</td>\n",
       "      <td>74</td>\n",
       "      <td>48</td>\n",
       "      <td>159</td>\n",
       "      <td>30</td>\n",
       "      <td>6</td>\n",
       "      <td>90</td>\n",
       "      <td>581</td>\n",
       "    </tr>\n",
       "    <tr>\n",
       "      <th>579</th>\n",
       "      <td>580</td>\n",
       "      <td>Happier</td>\n",
       "      <td>Marshmello</td>\n",
       "      <td>brostep</td>\n",
       "      <td>2019</td>\n",
       "      <td>100</td>\n",
       "      <td>79</td>\n",
       "      <td>69</td>\n",
       "      <td>-3</td>\n",
       "      <td>17</td>\n",
       "      <td>67</td>\n",
       "      <td>214</td>\n",
       "      <td>19</td>\n",
       "      <td>5</td>\n",
       "      <td>90</td>\n",
       "      <td>579</td>\n",
       "    </tr>\n",
       "  </tbody>\n",
       "</table>\n",
       "</div>"
      ],
      "text/plain": [
       "     Unnamed: 0                                              title  \\\n",
       "572         573                                           Memories   \n",
       "573         574                                Lose You To Love Me   \n",
       "574         575                                  Someone You Loved   \n",
       "575         576                                           Señorita   \n",
       "576         577                                  How Do You Sleep?   \n",
       "578         579                             Trampoline (with ZAYN)   \n",
       "577         578  South of the Border (feat. Camila Cabello & Ca...   \n",
       "580         581                                        Truth Hurts   \n",
       "581         582         Good as Hell (feat. Ariana Grande) - Remix   \n",
       "579         580                                            Happier   \n",
       "\n",
       "            artist     top genre  year  bpm  nrgy  dnce  dB  live  val  dur  \\\n",
       "572       Maroon 5           pop  2019   91    32    76  -7     8   57  189   \n",
       "573   Selena Gomez     dance pop  2019  102    34    51  -9    21    9  206   \n",
       "574  Lewis Capaldi           pop  2019  110    41    50  -6    11   45  182   \n",
       "575   Shawn Mendes  canadian pop  2019  117    54    76  -6     9   75  191   \n",
       "576      Sam Smith           pop  2019  111    68    48  -5     8   35  202   \n",
       "578          SHAED    electropop  2019  127    46    62  -6    14   50  184   \n",
       "577     Ed Sheeran           pop  2019   98    62    86  -6     9   67  204   \n",
       "580          Lizzo   escape room  2019  158    62    72  -3    12   41  173   \n",
       "581          Lizzo   escape room  2019   96    89    67  -3    74   48  159   \n",
       "579     Marshmello       brostep  2019  100    79    69  -3    17   67  214   \n",
       "\n",
       "     acous  spch  pop   id  \n",
       "572     84     5   99  572  \n",
       "573     58     4   97  573  \n",
       "574     75     3   96  574  \n",
       "575      4     3   95  575  \n",
       "576     15     9   93  576  \n",
       "578     56     3   92  578  \n",
       "577     15     8   92  577  \n",
       "580     11    11   90  580  \n",
       "581     30     6   90  581  \n",
       "579     19     5   90  579  "
      ]
     },
     "execution_count": 6,
     "metadata": {},
     "output_type": "execute_result"
    }
   ],
   "source": [
    "all_top_songs.sort_values(by='pop', ascending=False).head(10)"
   ]
  },
  {
   "cell_type": "code",
   "execution_count": 7,
   "id": "3cae661e",
   "metadata": {},
   "outputs": [
    {
     "data": {
      "text/html": [
       "<div>\n",
       "<style scoped>\n",
       "    .dataframe tbody tr th:only-of-type {\n",
       "        vertical-align: middle;\n",
       "    }\n",
       "\n",
       "    .dataframe tbody tr th {\n",
       "        vertical-align: top;\n",
       "    }\n",
       "\n",
       "    .dataframe thead th {\n",
       "        text-align: right;\n",
       "    }\n",
       "</style>\n",
       "<table border=\"1\" class=\"dataframe\">\n",
       "  <thead>\n",
       "    <tr style=\"text-align: right;\">\n",
       "      <th></th>\n",
       "      <th>Unnamed: 0</th>\n",
       "      <th>title</th>\n",
       "      <th>artist</th>\n",
       "      <th>top genre</th>\n",
       "      <th>year</th>\n",
       "      <th>bpm</th>\n",
       "      <th>nrgy</th>\n",
       "      <th>dnce</th>\n",
       "      <th>dB</th>\n",
       "      <th>live</th>\n",
       "      <th>val</th>\n",
       "      <th>dur</th>\n",
       "      <th>acous</th>\n",
       "      <th>spch</th>\n",
       "      <th>pop</th>\n",
       "      <th>id</th>\n",
       "    </tr>\n",
       "  </thead>\n",
       "  <tbody>\n",
       "    <tr>\n",
       "      <th>50</th>\n",
       "      <td>51</td>\n",
       "      <td>Hello</td>\n",
       "      <td>Martin Solveig</td>\n",
       "      <td>big room</td>\n",
       "      <td>2010</td>\n",
       "      <td>128</td>\n",
       "      <td>98</td>\n",
       "      <td>67</td>\n",
       "      <td>-3</td>\n",
       "      <td>10</td>\n",
       "      <td>45</td>\n",
       "      <td>191</td>\n",
       "      <td>1</td>\n",
       "      <td>3</td>\n",
       "      <td>0</td>\n",
       "      <td>50</td>\n",
       "    </tr>\n",
       "    <tr>\n",
       "      <th>442</th>\n",
       "      <td>443</td>\n",
       "      <td>Million Years Ago</td>\n",
       "      <td>Adele</td>\n",
       "      <td>british soul</td>\n",
       "      <td>2016</td>\n",
       "      <td>0</td>\n",
       "      <td>0</td>\n",
       "      <td>0</td>\n",
       "      <td>-60</td>\n",
       "      <td>0</td>\n",
       "      <td>0</td>\n",
       "      <td>227</td>\n",
       "      <td>0</td>\n",
       "      <td>0</td>\n",
       "      <td>0</td>\n",
       "      <td>442</td>\n",
       "    </tr>\n",
       "    <tr>\n",
       "      <th>138</th>\n",
       "      <td>139</td>\n",
       "      <td>Blow Me (One Last Kiss)</td>\n",
       "      <td>P!nk</td>\n",
       "      <td>dance pop</td>\n",
       "      <td>2012</td>\n",
       "      <td>114</td>\n",
       "      <td>92</td>\n",
       "      <td>60</td>\n",
       "      <td>-3</td>\n",
       "      <td>25</td>\n",
       "      <td>75</td>\n",
       "      <td>256</td>\n",
       "      <td>0</td>\n",
       "      <td>4</td>\n",
       "      <td>0</td>\n",
       "      <td>138</td>\n",
       "    </tr>\n",
       "    <tr>\n",
       "      <th>362</th>\n",
       "      <td>363</td>\n",
       "      <td>L.A.LOVE (la la)</td>\n",
       "      <td>Fergie</td>\n",
       "      <td>dance pop</td>\n",
       "      <td>2015</td>\n",
       "      <td>202</td>\n",
       "      <td>39</td>\n",
       "      <td>48</td>\n",
       "      <td>-8</td>\n",
       "      <td>26</td>\n",
       "      <td>27</td>\n",
       "      <td>193</td>\n",
       "      <td>2</td>\n",
       "      <td>9</td>\n",
       "      <td>0</td>\n",
       "      <td>362</td>\n",
       "    </tr>\n",
       "    <tr>\n",
       "      <th>267</th>\n",
       "      <td>268</td>\n",
       "      <td>Not a Bad Thing</td>\n",
       "      <td>Justin Timberlake</td>\n",
       "      <td>dance pop</td>\n",
       "      <td>2014</td>\n",
       "      <td>86</td>\n",
       "      <td>73</td>\n",
       "      <td>59</td>\n",
       "      <td>-6</td>\n",
       "      <td>38</td>\n",
       "      <td>46</td>\n",
       "      <td>266</td>\n",
       "      <td>27</td>\n",
       "      <td>6</td>\n",
       "      <td>0</td>\n",
       "      <td>267</td>\n",
       "    </tr>\n",
       "    <tr>\n",
       "      <th>103</th>\n",
       "      <td>104</td>\n",
       "      <td>Muny - Album Version (Edited)</td>\n",
       "      <td>Nicki Minaj</td>\n",
       "      <td>dance pop</td>\n",
       "      <td>2011</td>\n",
       "      <td>98</td>\n",
       "      <td>72</td>\n",
       "      <td>80</td>\n",
       "      <td>-5</td>\n",
       "      <td>19</td>\n",
       "      <td>53</td>\n",
       "      <td>227</td>\n",
       "      <td>56</td>\n",
       "      <td>33</td>\n",
       "      <td>7</td>\n",
       "      <td>103</td>\n",
       "    </tr>\n",
       "    <tr>\n",
       "      <th>361</th>\n",
       "      <td>362</td>\n",
       "      <td>Dangerous</td>\n",
       "      <td>Jennifer Hudson</td>\n",
       "      <td>dance pop</td>\n",
       "      <td>2015</td>\n",
       "      <td>109</td>\n",
       "      <td>53</td>\n",
       "      <td>90</td>\n",
       "      <td>-5</td>\n",
       "      <td>8</td>\n",
       "      <td>65</td>\n",
       "      <td>255</td>\n",
       "      <td>0</td>\n",
       "      <td>5</td>\n",
       "      <td>18</td>\n",
       "      <td>361</td>\n",
       "    </tr>\n",
       "    <tr>\n",
       "      <th>441</th>\n",
       "      <td>442</td>\n",
       "      <td>Behind Your Back</td>\n",
       "      <td>Nelly Furtado</td>\n",
       "      <td>canadian latin</td>\n",
       "      <td>2016</td>\n",
       "      <td>98</td>\n",
       "      <td>47</td>\n",
       "      <td>80</td>\n",
       "      <td>-10</td>\n",
       "      <td>7</td>\n",
       "      <td>69</td>\n",
       "      <td>228</td>\n",
       "      <td>25</td>\n",
       "      <td>4</td>\n",
       "      <td>18</td>\n",
       "      <td>441</td>\n",
       "    </tr>\n",
       "    <tr>\n",
       "      <th>102</th>\n",
       "      <td>103</td>\n",
       "      <td>Firework</td>\n",
       "      <td>Katy Perry</td>\n",
       "      <td>dance pop</td>\n",
       "      <td>2011</td>\n",
       "      <td>124</td>\n",
       "      <td>83</td>\n",
       "      <td>64</td>\n",
       "      <td>-5</td>\n",
       "      <td>11</td>\n",
       "      <td>65</td>\n",
       "      <td>228</td>\n",
       "      <td>14</td>\n",
       "      <td>5</td>\n",
       "      <td>25</td>\n",
       "      <td>102</td>\n",
       "    </tr>\n",
       "    <tr>\n",
       "      <th>101</th>\n",
       "      <td>102</td>\n",
       "      <td>Last Friday Night (T.G.I.F.)</td>\n",
       "      <td>Katy Perry</td>\n",
       "      <td>dance pop</td>\n",
       "      <td>2011</td>\n",
       "      <td>126</td>\n",
       "      <td>81</td>\n",
       "      <td>65</td>\n",
       "      <td>-4</td>\n",
       "      <td>67</td>\n",
       "      <td>72</td>\n",
       "      <td>231</td>\n",
       "      <td>0</td>\n",
       "      <td>4</td>\n",
       "      <td>27</td>\n",
       "      <td>101</td>\n",
       "    </tr>\n",
       "  </tbody>\n",
       "</table>\n",
       "</div>"
      ],
      "text/plain": [
       "     Unnamed: 0                          title             artist  \\\n",
       "50           51                          Hello     Martin Solveig   \n",
       "442         443              Million Years Ago              Adele   \n",
       "138         139        Blow Me (One Last Kiss)               P!nk   \n",
       "362         363               L.A.LOVE (la la)             Fergie   \n",
       "267         268                Not a Bad Thing  Justin Timberlake   \n",
       "103         104  Muny - Album Version (Edited)        Nicki Minaj   \n",
       "361         362                      Dangerous    Jennifer Hudson   \n",
       "441         442               Behind Your Back      Nelly Furtado   \n",
       "102         103                       Firework         Katy Perry   \n",
       "101         102   Last Friday Night (T.G.I.F.)         Katy Perry   \n",
       "\n",
       "          top genre  year  bpm  nrgy  dnce  dB  live  val  dur  acous  spch  \\\n",
       "50         big room  2010  128    98    67  -3    10   45  191      1     3   \n",
       "442    british soul  2016    0     0     0 -60     0    0  227      0     0   \n",
       "138       dance pop  2012  114    92    60  -3    25   75  256      0     4   \n",
       "362       dance pop  2015  202    39    48  -8    26   27  193      2     9   \n",
       "267       dance pop  2014   86    73    59  -6    38   46  266     27     6   \n",
       "103       dance pop  2011   98    72    80  -5    19   53  227     56    33   \n",
       "361       dance pop  2015  109    53    90  -5     8   65  255      0     5   \n",
       "441  canadian latin  2016   98    47    80 -10     7   69  228     25     4   \n",
       "102       dance pop  2011  124    83    64  -5    11   65  228     14     5   \n",
       "101       dance pop  2011  126    81    65  -4    67   72  231      0     4   \n",
       "\n",
       "     pop   id  \n",
       "50     0   50  \n",
       "442    0  442  \n",
       "138    0  138  \n",
       "362    0  362  \n",
       "267    0  267  \n",
       "103    7  103  \n",
       "361   18  361  \n",
       "441   18  441  \n",
       "102   25  102  \n",
       "101   27  101  "
      ]
     },
     "execution_count": 7,
     "metadata": {},
     "output_type": "execute_result"
    }
   ],
   "source": [
    "all_top_songs.sort_values(by='pop').head(10)"
   ]
  },
  {
   "cell_type": "markdown",
   "id": "42bdd669",
   "metadata": {},
   "source": [
    "The danceability scores are generally varied as seen in both tables, hence there is no clear relationship between popularity and danceability."
   ]
  },
  {
   "cell_type": "markdown",
   "id": "b9b9edbe",
   "metadata": {},
   "source": [
    "## Does having a higher bpm lead to having a higher energy score?"
   ]
  },
  {
   "cell_type": "markdown",
   "id": "25c1818b",
   "metadata": {},
   "source": [
    "The code below shows the top 10 songs with the highest bpm and the top 10 songs with the lowest bpm."
   ]
  },
  {
   "cell_type": "code",
   "execution_count": 8,
   "id": "293cd1dc",
   "metadata": {},
   "outputs": [
    {
     "data": {
      "text/html": [
       "<div>\n",
       "<style scoped>\n",
       "    .dataframe tbody tr th:only-of-type {\n",
       "        vertical-align: middle;\n",
       "    }\n",
       "\n",
       "    .dataframe tbody tr th {\n",
       "        vertical-align: top;\n",
       "    }\n",
       "\n",
       "    .dataframe thead th {\n",
       "        text-align: right;\n",
       "    }\n",
       "</style>\n",
       "<table border=\"1\" class=\"dataframe\">\n",
       "  <thead>\n",
       "    <tr style=\"text-align: right;\">\n",
       "      <th></th>\n",
       "      <th>Unnamed: 0</th>\n",
       "      <th>title</th>\n",
       "      <th>artist</th>\n",
       "      <th>top genre</th>\n",
       "      <th>year</th>\n",
       "      <th>bpm</th>\n",
       "      <th>nrgy</th>\n",
       "      <th>dnce</th>\n",
       "      <th>dB</th>\n",
       "      <th>live</th>\n",
       "      <th>val</th>\n",
       "      <th>dur</th>\n",
       "      <th>acous</th>\n",
       "      <th>spch</th>\n",
       "      <th>pop</th>\n",
       "      <th>id</th>\n",
       "    </tr>\n",
       "  </thead>\n",
       "  <tbody>\n",
       "    <tr>\n",
       "      <th>276</th>\n",
       "      <td>277</td>\n",
       "      <td>FourFiveSeconds</td>\n",
       "      <td>Rihanna</td>\n",
       "      <td>barbadian pop</td>\n",
       "      <td>2015</td>\n",
       "      <td>206</td>\n",
       "      <td>27</td>\n",
       "      <td>58</td>\n",
       "      <td>-6</td>\n",
       "      <td>13</td>\n",
       "      <td>35</td>\n",
       "      <td>188</td>\n",
       "      <td>88</td>\n",
       "      <td>5</td>\n",
       "      <td>80</td>\n",
       "      <td>276</td>\n",
       "    </tr>\n",
       "    <tr>\n",
       "      <th>362</th>\n",
       "      <td>363</td>\n",
       "      <td>L.A.LOVE (la la)</td>\n",
       "      <td>Fergie</td>\n",
       "      <td>dance pop</td>\n",
       "      <td>2015</td>\n",
       "      <td>202</td>\n",
       "      <td>39</td>\n",
       "      <td>48</td>\n",
       "      <td>-8</td>\n",
       "      <td>26</td>\n",
       "      <td>27</td>\n",
       "      <td>193</td>\n",
       "      <td>2</td>\n",
       "      <td>9</td>\n",
       "      <td>0</td>\n",
       "      <td>362</td>\n",
       "    </tr>\n",
       "    <tr>\n",
       "      <th>200</th>\n",
       "      <td>201</td>\n",
       "      <td>How Ya Doin'? (feat. Missy Elliott)</td>\n",
       "      <td>Little Mix</td>\n",
       "      <td>dance pop</td>\n",
       "      <td>2013</td>\n",
       "      <td>201</td>\n",
       "      <td>95</td>\n",
       "      <td>36</td>\n",
       "      <td>-3</td>\n",
       "      <td>37</td>\n",
       "      <td>51</td>\n",
       "      <td>211</td>\n",
       "      <td>9</td>\n",
       "      <td>48</td>\n",
       "      <td>50</td>\n",
       "      <td>200</td>\n",
       "    </tr>\n",
       "    <tr>\n",
       "      <th>462</th>\n",
       "      <td>463</td>\n",
       "      <td>The Greatest</td>\n",
       "      <td>Sia</td>\n",
       "      <td>australian dance</td>\n",
       "      <td>2017</td>\n",
       "      <td>192</td>\n",
       "      <td>73</td>\n",
       "      <td>67</td>\n",
       "      <td>-6</td>\n",
       "      <td>6</td>\n",
       "      <td>73</td>\n",
       "      <td>210</td>\n",
       "      <td>1</td>\n",
       "      <td>27</td>\n",
       "      <td>76</td>\n",
       "      <td>462</td>\n",
       "    </tr>\n",
       "    <tr>\n",
       "      <th>314</th>\n",
       "      <td>315</td>\n",
       "      <td>I'll Show You</td>\n",
       "      <td>Justin Bieber</td>\n",
       "      <td>canadian pop</td>\n",
       "      <td>2015</td>\n",
       "      <td>192</td>\n",
       "      <td>61</td>\n",
       "      <td>36</td>\n",
       "      <td>-7</td>\n",
       "      <td>18</td>\n",
       "      <td>8</td>\n",
       "      <td>200</td>\n",
       "      <td>5</td>\n",
       "      <td>10</td>\n",
       "      <td>68</td>\n",
       "      <td>314</td>\n",
       "    </tr>\n",
       "    <tr>\n",
       "      <th>248</th>\n",
       "      <td>249</td>\n",
       "      <td>Shot Me Down (feat. Skylar Grey) - Radio Edit</td>\n",
       "      <td>David Guetta</td>\n",
       "      <td>dance pop</td>\n",
       "      <td>2014</td>\n",
       "      <td>192</td>\n",
       "      <td>77</td>\n",
       "      <td>35</td>\n",
       "      <td>-4</td>\n",
       "      <td>12</td>\n",
       "      <td>4</td>\n",
       "      <td>191</td>\n",
       "      <td>6</td>\n",
       "      <td>5</td>\n",
       "      <td>61</td>\n",
       "      <td>248</td>\n",
       "    </tr>\n",
       "    <tr>\n",
       "      <th>288</th>\n",
       "      <td>289</td>\n",
       "      <td>Animals</td>\n",
       "      <td>Maroon 5</td>\n",
       "      <td>pop</td>\n",
       "      <td>2015</td>\n",
       "      <td>190</td>\n",
       "      <td>74</td>\n",
       "      <td>28</td>\n",
       "      <td>-6</td>\n",
       "      <td>59</td>\n",
       "      <td>33</td>\n",
       "      <td>231</td>\n",
       "      <td>0</td>\n",
       "      <td>9</td>\n",
       "      <td>76</td>\n",
       "      <td>288</td>\n",
       "    </tr>\n",
       "    <tr>\n",
       "      <th>277</th>\n",
       "      <td>278</td>\n",
       "      <td>Love Me Like You Do - From \"Fifty Shades Of Grey\"</td>\n",
       "      <td>Ellie Goulding</td>\n",
       "      <td>dance pop</td>\n",
       "      <td>2015</td>\n",
       "      <td>190</td>\n",
       "      <td>61</td>\n",
       "      <td>26</td>\n",
       "      <td>-7</td>\n",
       "      <td>13</td>\n",
       "      <td>28</td>\n",
       "      <td>253</td>\n",
       "      <td>25</td>\n",
       "      <td>5</td>\n",
       "      <td>79</td>\n",
       "      <td>277</td>\n",
       "    </tr>\n",
       "    <tr>\n",
       "      <th>469</th>\n",
       "      <td>470</td>\n",
       "      <td>Chained To The Rhythm</td>\n",
       "      <td>Katy Perry</td>\n",
       "      <td>dance pop</td>\n",
       "      <td>2017</td>\n",
       "      <td>190</td>\n",
       "      <td>80</td>\n",
       "      <td>45</td>\n",
       "      <td>-5</td>\n",
       "      <td>20</td>\n",
       "      <td>47</td>\n",
       "      <td>238</td>\n",
       "      <td>8</td>\n",
       "      <td>17</td>\n",
       "      <td>72</td>\n",
       "      <td>469</td>\n",
       "    </tr>\n",
       "    <tr>\n",
       "      <th>440</th>\n",
       "      <td>441</td>\n",
       "      <td>Picky - Remix</td>\n",
       "      <td>Joey Montana</td>\n",
       "      <td>latin</td>\n",
       "      <td>2016</td>\n",
       "      <td>186</td>\n",
       "      <td>81</td>\n",
       "      <td>70</td>\n",
       "      <td>-3</td>\n",
       "      <td>37</td>\n",
       "      <td>69</td>\n",
       "      <td>225</td>\n",
       "      <td>9</td>\n",
       "      <td>7</td>\n",
       "      <td>29</td>\n",
       "      <td>440</td>\n",
       "    </tr>\n",
       "  </tbody>\n",
       "</table>\n",
       "</div>"
      ],
      "text/plain": [
       "     Unnamed: 0                                              title  \\\n",
       "276         277                                    FourFiveSeconds   \n",
       "362         363                                   L.A.LOVE (la la)   \n",
       "200         201                How Ya Doin'? (feat. Missy Elliott)   \n",
       "462         463                                       The Greatest   \n",
       "314         315                                      I'll Show You   \n",
       "248         249      Shot Me Down (feat. Skylar Grey) - Radio Edit   \n",
       "288         289                                            Animals   \n",
       "277         278  Love Me Like You Do - From \"Fifty Shades Of Grey\"   \n",
       "469         470                              Chained To The Rhythm   \n",
       "440         441                                      Picky - Remix   \n",
       "\n",
       "             artist         top genre  year  bpm  nrgy  dnce  dB  live  val  \\\n",
       "276         Rihanna     barbadian pop  2015  206    27    58  -6    13   35   \n",
       "362          Fergie         dance pop  2015  202    39    48  -8    26   27   \n",
       "200      Little Mix         dance pop  2013  201    95    36  -3    37   51   \n",
       "462             Sia  australian dance  2017  192    73    67  -6     6   73   \n",
       "314   Justin Bieber      canadian pop  2015  192    61    36  -7    18    8   \n",
       "248    David Guetta         dance pop  2014  192    77    35  -4    12    4   \n",
       "288        Maroon 5               pop  2015  190    74    28  -6    59   33   \n",
       "277  Ellie Goulding         dance pop  2015  190    61    26  -7    13   28   \n",
       "469      Katy Perry         dance pop  2017  190    80    45  -5    20   47   \n",
       "440    Joey Montana             latin  2016  186    81    70  -3    37   69   \n",
       "\n",
       "     dur  acous  spch  pop   id  \n",
       "276  188     88     5   80  276  \n",
       "362  193      2     9    0  362  \n",
       "200  211      9    48   50  200  \n",
       "462  210      1    27   76  462  \n",
       "314  200      5    10   68  314  \n",
       "248  191      6     5   61  248  \n",
       "288  231      0     9   76  288  \n",
       "277  253     25     5   79  277  \n",
       "469  238      8    17   72  469  \n",
       "440  225      9     7   29  440  "
      ]
     },
     "execution_count": 8,
     "metadata": {},
     "output_type": "execute_result"
    }
   ],
   "source": [
    "all_top_songs.sort_values(by='bpm', ascending=False).head(10)"
   ]
  },
  {
   "cell_type": "code",
   "execution_count": 9,
   "id": "3aa1a9bc",
   "metadata": {},
   "outputs": [
    {
     "data": {
      "text/html": [
       "<div>\n",
       "<style scoped>\n",
       "    .dataframe tbody tr th:only-of-type {\n",
       "        vertical-align: middle;\n",
       "    }\n",
       "\n",
       "    .dataframe tbody tr th {\n",
       "        vertical-align: top;\n",
       "    }\n",
       "\n",
       "    .dataframe thead th {\n",
       "        text-align: right;\n",
       "    }\n",
       "</style>\n",
       "<table border=\"1\" class=\"dataframe\">\n",
       "  <thead>\n",
       "    <tr style=\"text-align: right;\">\n",
       "      <th></th>\n",
       "      <th>Unnamed: 0</th>\n",
       "      <th>title</th>\n",
       "      <th>artist</th>\n",
       "      <th>top genre</th>\n",
       "      <th>year</th>\n",
       "      <th>bpm</th>\n",
       "      <th>nrgy</th>\n",
       "      <th>dnce</th>\n",
       "      <th>dB</th>\n",
       "      <th>live</th>\n",
       "      <th>val</th>\n",
       "      <th>dur</th>\n",
       "      <th>acous</th>\n",
       "      <th>spch</th>\n",
       "      <th>pop</th>\n",
       "      <th>id</th>\n",
       "    </tr>\n",
       "  </thead>\n",
       "  <tbody>\n",
       "    <tr>\n",
       "      <th>442</th>\n",
       "      <td>443</td>\n",
       "      <td>Million Years Ago</td>\n",
       "      <td>Adele</td>\n",
       "      <td>british soul</td>\n",
       "      <td>2016</td>\n",
       "      <td>0</td>\n",
       "      <td>0</td>\n",
       "      <td>0</td>\n",
       "      <td>-60</td>\n",
       "      <td>0</td>\n",
       "      <td>0</td>\n",
       "      <td>227</td>\n",
       "      <td>0</td>\n",
       "      <td>0</td>\n",
       "      <td>0</td>\n",
       "      <td>442</td>\n",
       "    </tr>\n",
       "    <tr>\n",
       "      <th>44</th>\n",
       "      <td>45</td>\n",
       "      <td>You Lost Me</td>\n",
       "      <td>Christina Aguilera</td>\n",
       "      <td>dance pop</td>\n",
       "      <td>2010</td>\n",
       "      <td>43</td>\n",
       "      <td>39</td>\n",
       "      <td>23</td>\n",
       "      <td>-6</td>\n",
       "      <td>14</td>\n",
       "      <td>7</td>\n",
       "      <td>257</td>\n",
       "      <td>85</td>\n",
       "      <td>4</td>\n",
       "      <td>56</td>\n",
       "      <td>44</td>\n",
       "    </tr>\n",
       "    <tr>\n",
       "      <th>87</th>\n",
       "      <td>88</td>\n",
       "      <td>1+1</td>\n",
       "      <td>Beyoncé</td>\n",
       "      <td>dance pop</td>\n",
       "      <td>2011</td>\n",
       "      <td>63</td>\n",
       "      <td>38</td>\n",
       "      <td>30</td>\n",
       "      <td>-7</td>\n",
       "      <td>7</td>\n",
       "      <td>26</td>\n",
       "      <td>274</td>\n",
       "      <td>38</td>\n",
       "      <td>3</td>\n",
       "      <td>60</td>\n",
       "      <td>87</td>\n",
       "    </tr>\n",
       "    <tr>\n",
       "      <th>5</th>\n",
       "      <td>6</td>\n",
       "      <td>Baby</td>\n",
       "      <td>Justin Bieber</td>\n",
       "      <td>canadian pop</td>\n",
       "      <td>2010</td>\n",
       "      <td>65</td>\n",
       "      <td>86</td>\n",
       "      <td>73</td>\n",
       "      <td>-5</td>\n",
       "      <td>11</td>\n",
       "      <td>54</td>\n",
       "      <td>214</td>\n",
       "      <td>4</td>\n",
       "      <td>14</td>\n",
       "      <td>77</td>\n",
       "      <td>5</td>\n",
       "    </tr>\n",
       "    <tr>\n",
       "      <th>460</th>\n",
       "      <td>461</td>\n",
       "      <td>Praying</td>\n",
       "      <td>Kesha</td>\n",
       "      <td>dance pop</td>\n",
       "      <td>2017</td>\n",
       "      <td>73</td>\n",
       "      <td>39</td>\n",
       "      <td>58</td>\n",
       "      <td>-7</td>\n",
       "      <td>11</td>\n",
       "      <td>32</td>\n",
       "      <td>230</td>\n",
       "      <td>49</td>\n",
       "      <td>3</td>\n",
       "      <td>77</td>\n",
       "      <td>460</td>\n",
       "    </tr>\n",
       "    <tr>\n",
       "      <th>94</th>\n",
       "      <td>95</td>\n",
       "      <td>Jar of Hearts</td>\n",
       "      <td>Christina Perri</td>\n",
       "      <td>dance pop</td>\n",
       "      <td>2011</td>\n",
       "      <td>75</td>\n",
       "      <td>35</td>\n",
       "      <td>35</td>\n",
       "      <td>-6</td>\n",
       "      <td>12</td>\n",
       "      <td>9</td>\n",
       "      <td>247</td>\n",
       "      <td>73</td>\n",
       "      <td>3</td>\n",
       "      <td>50</td>\n",
       "      <td>94</td>\n",
       "    </tr>\n",
       "    <tr>\n",
       "      <th>220</th>\n",
       "      <td>221</td>\n",
       "      <td>Let Her Go</td>\n",
       "      <td>Passenger</td>\n",
       "      <td>folk-pop</td>\n",
       "      <td>2014</td>\n",
       "      <td>75</td>\n",
       "      <td>54</td>\n",
       "      <td>51</td>\n",
       "      <td>-7</td>\n",
       "      <td>10</td>\n",
       "      <td>24</td>\n",
       "      <td>253</td>\n",
       "      <td>39</td>\n",
       "      <td>6</td>\n",
       "      <td>77</td>\n",
       "      <td>220</td>\n",
       "    </tr>\n",
       "    <tr>\n",
       "      <th>260</th>\n",
       "      <td>261</td>\n",
       "      <td>Tee Shirt - Soundtrack Version</td>\n",
       "      <td>Birdy</td>\n",
       "      <td>neo mellow</td>\n",
       "      <td>2014</td>\n",
       "      <td>76</td>\n",
       "      <td>34</td>\n",
       "      <td>68</td>\n",
       "      <td>-9</td>\n",
       "      <td>9</td>\n",
       "      <td>56</td>\n",
       "      <td>160</td>\n",
       "      <td>84</td>\n",
       "      <td>3</td>\n",
       "      <td>49</td>\n",
       "      <td>260</td>\n",
       "    </tr>\n",
       "    <tr>\n",
       "      <th>183</th>\n",
       "      <td>184</td>\n",
       "      <td>Mirrors - Radio Edit</td>\n",
       "      <td>Justin Timberlake</td>\n",
       "      <td>dance pop</td>\n",
       "      <td>2013</td>\n",
       "      <td>77</td>\n",
       "      <td>60</td>\n",
       "      <td>58</td>\n",
       "      <td>-6</td>\n",
       "      <td>43</td>\n",
       "      <td>65</td>\n",
       "      <td>277</td>\n",
       "      <td>14</td>\n",
       "      <td>5</td>\n",
       "      <td>60</td>\n",
       "      <td>183</td>\n",
       "    </tr>\n",
       "    <tr>\n",
       "      <th>109</th>\n",
       "      <td>110</td>\n",
       "      <td>I Knew You Were Trouble.</td>\n",
       "      <td>Taylor Swift</td>\n",
       "      <td>pop</td>\n",
       "      <td>2012</td>\n",
       "      <td>77</td>\n",
       "      <td>47</td>\n",
       "      <td>62</td>\n",
       "      <td>-7</td>\n",
       "      <td>3</td>\n",
       "      <td>68</td>\n",
       "      <td>220</td>\n",
       "      <td>0</td>\n",
       "      <td>4</td>\n",
       "      <td>77</td>\n",
       "      <td>109</td>\n",
       "    </tr>\n",
       "  </tbody>\n",
       "</table>\n",
       "</div>"
      ],
      "text/plain": [
       "     Unnamed: 0                           title              artist  \\\n",
       "442         443               Million Years Ago               Adele   \n",
       "44           45                     You Lost Me  Christina Aguilera   \n",
       "87           88                             1+1             Beyoncé   \n",
       "5             6                            Baby       Justin Bieber   \n",
       "460         461                         Praying               Kesha   \n",
       "94           95                   Jar of Hearts     Christina Perri   \n",
       "220         221                      Let Her Go           Passenger   \n",
       "260         261  Tee Shirt - Soundtrack Version               Birdy   \n",
       "183         184            Mirrors - Radio Edit   Justin Timberlake   \n",
       "109         110        I Knew You Were Trouble.        Taylor Swift   \n",
       "\n",
       "        top genre  year  bpm  nrgy  dnce  dB  live  val  dur  acous  spch  \\\n",
       "442  british soul  2016    0     0     0 -60     0    0  227      0     0   \n",
       "44      dance pop  2010   43    39    23  -6    14    7  257     85     4   \n",
       "87      dance pop  2011   63    38    30  -7     7   26  274     38     3   \n",
       "5    canadian pop  2010   65    86    73  -5    11   54  214      4    14   \n",
       "460     dance pop  2017   73    39    58  -7    11   32  230     49     3   \n",
       "94      dance pop  2011   75    35    35  -6    12    9  247     73     3   \n",
       "220      folk-pop  2014   75    54    51  -7    10   24  253     39     6   \n",
       "260    neo mellow  2014   76    34    68  -9     9   56  160     84     3   \n",
       "183     dance pop  2013   77    60    58  -6    43   65  277     14     5   \n",
       "109           pop  2012   77    47    62  -7     3   68  220      0     4   \n",
       "\n",
       "     pop   id  \n",
       "442    0  442  \n",
       "44    56   44  \n",
       "87    60   87  \n",
       "5     77    5  \n",
       "460   77  460  \n",
       "94    50   94  \n",
       "220   77  220  \n",
       "260   49  260  \n",
       "183   60  183  \n",
       "109   77  109  "
      ]
     },
     "execution_count": 9,
     "metadata": {},
     "output_type": "execute_result"
    }
   ],
   "source": [
    "all_top_songs.sort_values(by='bpm').head(10)"
   ]
  },
  {
   "cell_type": "markdown",
   "id": "275e82b0",
   "metadata": {},
   "source": [
    "As we can see, the energy scores are very varied for both tables, hence a higher bpm does not necessarily lead to a higher energy score."
   ]
  },
  {
   "cell_type": "markdown",
   "id": "a360ec9f",
   "metadata": {},
   "source": [
    "## Which genre has the highest energy score?"
   ]
  },
  {
   "cell_type": "markdown",
   "id": "b84e02ad",
   "metadata": {},
   "source": [
    "The code below lists all genres present in the dataset, with dance pop being the most common genre (327 songs)."
   ]
  },
  {
   "cell_type": "code",
   "execution_count": 119,
   "id": "5d5161fc",
   "metadata": {},
   "outputs": [
    {
     "data": {
      "text/plain": [
       "top genre\n",
       "dance pop                    327\n",
       "pop                           60\n",
       "canadian pop                  34\n",
       "barbadian pop                 15\n",
       "boy band                      15\n",
       "electropop                    13\n",
       "british soul                  11\n",
       "big room                      10\n",
       "canadian contemporary r&b      9\n",
       "neo mellow                     9\n",
       "art pop                        8\n",
       "complextro                     6\n",
       "hip pop                        6\n",
       "australian dance               6\n",
       "atl hip hop                    5\n",
       "australian pop                 5\n",
       "edm                            5\n",
       "permanent wave                 4\n",
       "latin                          4\n",
       "hip hop                        4\n",
       "colombian pop                  3\n",
       "tropical house                 3\n",
       "brostep                        2\n",
       "downtempo                      2\n",
       "electronic trap                2\n",
       "belgian edm                    2\n",
       "escape room                    2\n",
       "folk-pop                       2\n",
       "electro                        2\n",
       "indie pop                      2\n",
       "detroit hip hop                2\n",
       "candy pop                      2\n",
       "acoustic pop                   2\n",
       "canadian hip hop               2\n",
       "baroque pop                    2\n",
       "celtic rock                    1\n",
       "moroccan pop                   1\n",
       "contemporary country           1\n",
       "chicago rap                    1\n",
       "electro house                  1\n",
       "australian hip hop             1\n",
       "canadian latin                 1\n",
       "house                          1\n",
       "danish pop                     1\n",
       "french indie pop               1\n",
       "alaska indie                   1\n",
       "irish singer-songwriter        1\n",
       "hollywood                      1\n",
       "metropopolis                   1\n",
       "alternative r&b                1\n",
       "Name: count, dtype: int64"
      ]
     },
     "execution_count": 119,
     "metadata": {},
     "output_type": "execute_result"
    }
   ],
   "source": [
    "all_top_songs['top genre'].value_counts()"
   ]
  },
  {
   "cell_type": "markdown",
   "id": "de81ad87",
   "metadata": {},
   "source": [
    "The lines of code below show the average energy scores for each genre, listed in order of the genres shown in the table above."
   ]
  },
  {
   "cell_type": "code",
   "execution_count": 49,
   "id": "9ec5493a",
   "metadata": {},
   "outputs": [
    {
     "data": {
      "text/plain": [
       "72.8256880733945"
      ]
     },
     "execution_count": 49,
     "metadata": {},
     "output_type": "execute_result"
    }
   ],
   "source": [
    "all_top_songs[all_top_songs['top genre'] == 'dance pop'].nrgy.mean()"
   ]
  },
  {
   "cell_type": "code",
   "execution_count": 67,
   "id": "790507b6",
   "metadata": {},
   "outputs": [
    {
     "data": {
      "text/plain": [
       "68.3"
      ]
     },
     "execution_count": 67,
     "metadata": {},
     "output_type": "execute_result"
    }
   ],
   "source": [
    "all_top_songs[all_top_songs['top genre'] == 'pop'].nrgy.mean()"
   ]
  },
  {
   "cell_type": "code",
   "execution_count": 68,
   "id": "f09fa955",
   "metadata": {},
   "outputs": [
    {
     "data": {
      "text/plain": [
       "68.11764705882354"
      ]
     },
     "execution_count": 68,
     "metadata": {},
     "output_type": "execute_result"
    }
   ],
   "source": [
    "all_top_songs[all_top_songs['top genre'] == 'canadian pop'].nrgy.mean()"
   ]
  },
  {
   "cell_type": "code",
   "execution_count": 69,
   "id": "890aac4c",
   "metadata": {},
   "outputs": [
    {
     "data": {
      "text/plain": [
       "68.46666666666667"
      ]
     },
     "execution_count": 69,
     "metadata": {},
     "output_type": "execute_result"
    }
   ],
   "source": [
    "all_top_songs[all_top_songs['top genre'] == 'barbadian pop'].nrgy.mean()"
   ]
  },
  {
   "cell_type": "code",
   "execution_count": 73,
   "id": "198d679b",
   "metadata": {},
   "outputs": [
    {
     "data": {
      "text/plain": [
       "80.26666666666667"
      ]
     },
     "execution_count": 73,
     "metadata": {},
     "output_type": "execute_result"
    }
   ],
   "source": [
    "all_top_songs[all_top_songs['top genre'] == 'boy band'].nrgy.mean()"
   ]
  },
  {
   "cell_type": "code",
   "execution_count": 74,
   "id": "b2f9a0cc",
   "metadata": {},
   "outputs": [
    {
     "data": {
      "text/plain": [
       "65.23076923076923"
      ]
     },
     "execution_count": 74,
     "metadata": {},
     "output_type": "execute_result"
    }
   ],
   "source": [
    "all_top_songs[all_top_songs['top genre'] == 'electropop'].nrgy.mean()"
   ]
  },
  {
   "cell_type": "code",
   "execution_count": 75,
   "id": "dad1a73c",
   "metadata": {},
   "outputs": [
    {
     "data": {
      "text/plain": [
       "51.09090909090909"
      ]
     },
     "execution_count": 75,
     "metadata": {},
     "output_type": "execute_result"
    }
   ],
   "source": [
    "all_top_songs[all_top_songs['top genre'] == 'british soul'].nrgy.mean()"
   ]
  },
  {
   "cell_type": "code",
   "execution_count": 76,
   "id": "341a5ad7",
   "metadata": {},
   "outputs": [
    {
     "data": {
      "text/plain": [
       "77.2"
      ]
     },
     "execution_count": 76,
     "metadata": {},
     "output_type": "execute_result"
    }
   ],
   "source": [
    "all_top_songs[all_top_songs['top genre'] == 'big room'].nrgy.mean()"
   ]
  },
  {
   "cell_type": "code",
   "execution_count": 77,
   "id": "4b34bc52",
   "metadata": {},
   "outputs": [
    {
     "data": {
      "text/plain": [
       "64.77777777777777"
      ]
     },
     "execution_count": 77,
     "metadata": {},
     "output_type": "execute_result"
    }
   ],
   "source": [
    "all_top_songs[all_top_songs['top genre'] == 'canadian contemporary r&b'].nrgy.mean()"
   ]
  },
  {
   "cell_type": "code",
   "execution_count": 78,
   "id": "5ed44fb7",
   "metadata": {},
   "outputs": [
    {
     "data": {
      "text/plain": [
       "40.666666666666664"
      ]
     },
     "execution_count": 78,
     "metadata": {},
     "output_type": "execute_result"
    }
   ],
   "source": [
    "all_top_songs[all_top_songs['top genre'] == 'neo mellow'].nrgy.mean()"
   ]
  },
  {
   "cell_type": "code",
   "execution_count": 79,
   "id": "ef4f0214",
   "metadata": {},
   "outputs": [
    {
     "data": {
      "text/plain": [
       "60.125"
      ]
     },
     "execution_count": 79,
     "metadata": {},
     "output_type": "execute_result"
    }
   ],
   "source": [
    "all_top_songs[all_top_songs['top genre'] == 'art pop'].nrgy.mean()"
   ]
  },
  {
   "cell_type": "code",
   "execution_count": 80,
   "id": "cc07fedd",
   "metadata": {},
   "outputs": [
    {
     "data": {
      "text/plain": [
       "78.5"
      ]
     },
     "execution_count": 80,
     "metadata": {},
     "output_type": "execute_result"
    }
   ],
   "source": [
    "all_top_songs[all_top_songs['top genre'] == 'complextro'].nrgy.mean()"
   ]
  },
  {
   "cell_type": "code",
   "execution_count": 111,
   "id": "6fd8c390",
   "metadata": {},
   "outputs": [
    {
     "data": {
      "text/plain": [
       "60.333333333333336"
      ]
     },
     "execution_count": 111,
     "metadata": {},
     "output_type": "execute_result"
    }
   ],
   "source": [
    "all_top_songs[all_top_songs['top genre'] == 'hip pop'].nrgy.mean()"
   ]
  },
  {
   "cell_type": "code",
   "execution_count": 110,
   "id": "f4c5b93c",
   "metadata": {},
   "outputs": [
    {
     "data": {
      "text/plain": [
       "72.0"
      ]
     },
     "execution_count": 110,
     "metadata": {},
     "output_type": "execute_result"
    }
   ],
   "source": [
    "all_top_songs[all_top_songs['top genre'] == 'australian dance'].nrgy.mean()"
   ]
  },
  {
   "cell_type": "code",
   "execution_count": 112,
   "id": "159e953f",
   "metadata": {},
   "outputs": [
    {
     "data": {
      "text/plain": [
       "82.2"
      ]
     },
     "execution_count": 112,
     "metadata": {},
     "output_type": "execute_result"
    }
   ],
   "source": [
    "all_top_songs[all_top_songs['top genre'] == 'atl hip hop'].nrgy.mean()"
   ]
  },
  {
   "cell_type": "code",
   "execution_count": 114,
   "id": "bee75639",
   "metadata": {},
   "outputs": [
    {
     "data": {
      "text/plain": [
       "74.4"
      ]
     },
     "execution_count": 114,
     "metadata": {},
     "output_type": "execute_result"
    }
   ],
   "source": [
    "all_top_songs[all_top_songs['top genre'] == 'australian pop'].nrgy.mean()"
   ]
  },
  {
   "cell_type": "code",
   "execution_count": 115,
   "id": "31e012e8",
   "metadata": {},
   "outputs": [
    {
     "data": {
      "text/plain": [
       "61.2"
      ]
     },
     "execution_count": 115,
     "metadata": {},
     "output_type": "execute_result"
    }
   ],
   "source": [
    "all_top_songs[all_top_songs['top genre'] == 'edm'].nrgy.mean()"
   ]
  },
  {
   "cell_type": "code",
   "execution_count": 116,
   "id": "18f11deb",
   "metadata": {},
   "outputs": [
    {
     "data": {
      "text/plain": [
       "65.0"
      ]
     },
     "execution_count": 116,
     "metadata": {},
     "output_type": "execute_result"
    }
   ],
   "source": [
    "all_top_songs[all_top_songs['top genre'] == 'permanent wave'].nrgy.mean()"
   ]
  },
  {
   "cell_type": "code",
   "execution_count": 117,
   "id": "d784dbf5",
   "metadata": {},
   "outputs": [
    {
     "data": {
      "text/plain": [
       "80.5"
      ]
     },
     "execution_count": 117,
     "metadata": {},
     "output_type": "execute_result"
    }
   ],
   "source": [
    "all_top_songs[all_top_songs['top genre'] == 'latin'].nrgy.mean()"
   ]
  },
  {
   "cell_type": "code",
   "execution_count": 118,
   "id": "e56e9910",
   "metadata": {},
   "outputs": [
    {
     "data": {
      "text/plain": [
       "65.25"
      ]
     },
     "execution_count": 118,
     "metadata": {},
     "output_type": "execute_result"
    }
   ],
   "source": [
    "all_top_songs[all_top_songs['top genre'] == 'hip hop'].nrgy.mean()"
   ]
  },
  {
   "cell_type": "code",
   "execution_count": 109,
   "id": "da1c4cef",
   "metadata": {},
   "outputs": [
    {
     "data": {
      "text/plain": [
       "83.33333333333333"
      ]
     },
     "execution_count": 109,
     "metadata": {},
     "output_type": "execute_result"
    }
   ],
   "source": [
    "all_top_songs[all_top_songs['top genre'] == 'colombian pop'].nrgy.mean()"
   ]
  },
  {
   "cell_type": "code",
   "execution_count": 108,
   "id": "2543f8cd",
   "metadata": {},
   "outputs": [
    {
     "data": {
      "text/plain": [
       "73.66666666666667"
      ]
     },
     "execution_count": 108,
     "metadata": {},
     "output_type": "execute_result"
    }
   ],
   "source": [
    "all_top_songs[all_top_songs['top genre'] == 'tropical house'].nrgy.mean()"
   ]
  },
  {
   "cell_type": "code",
   "execution_count": 107,
   "id": "f3900012",
   "metadata": {},
   "outputs": [
    {
     "data": {
      "text/plain": [
       "77.5"
      ]
     },
     "execution_count": 107,
     "metadata": {},
     "output_type": "execute_result"
    }
   ],
   "source": [
    "all_top_songs[all_top_songs['top genre'] == 'brostep'].nrgy.mean()"
   ]
  },
  {
   "cell_type": "code",
   "execution_count": 106,
   "id": "ad11b10a",
   "metadata": {},
   "outputs": [
    {
     "data": {
      "text/plain": [
       "57.0"
      ]
     },
     "execution_count": 106,
     "metadata": {},
     "output_type": "execute_result"
    }
   ],
   "source": [
    "all_top_songs[all_top_songs['top genre'] == 'downtempo'].nrgy.mean()"
   ]
  },
  {
   "cell_type": "code",
   "execution_count": 105,
   "id": "ba8b520f",
   "metadata": {},
   "outputs": [
    {
     "data": {
      "text/plain": [
       "76.0"
      ]
     },
     "execution_count": 105,
     "metadata": {},
     "output_type": "execute_result"
    }
   ],
   "source": [
    "all_top_songs[all_top_songs['top genre'] == 'electronic trap'].nrgy.mean()"
   ]
  },
  {
   "cell_type": "code",
   "execution_count": 104,
   "id": "ae232633",
   "metadata": {},
   "outputs": [
    {
     "data": {
      "text/plain": [
       "67.0"
      ]
     },
     "execution_count": 104,
     "metadata": {},
     "output_type": "execute_result"
    }
   ],
   "source": [
    "all_top_songs[all_top_songs['top genre'] == 'belgian edm'].nrgy.mean()"
   ]
  },
  {
   "cell_type": "code",
   "execution_count": 103,
   "id": "6dd80154",
   "metadata": {},
   "outputs": [
    {
     "data": {
      "text/plain": [
       "75.5"
      ]
     },
     "execution_count": 103,
     "metadata": {},
     "output_type": "execute_result"
    }
   ],
   "source": [
    "all_top_songs[all_top_songs['top genre'] == 'escape room'].nrgy.mean()"
   ]
  },
  {
   "cell_type": "code",
   "execution_count": 102,
   "id": "056d8490",
   "metadata": {},
   "outputs": [
    {
     "data": {
      "text/plain": [
       "35.5"
      ]
     },
     "execution_count": 102,
     "metadata": {},
     "output_type": "execute_result"
    }
   ],
   "source": [
    "all_top_songs[all_top_songs['top genre'] == 'folk-pop'].nrgy.mean()"
   ]
  },
  {
   "cell_type": "code",
   "execution_count": 100,
   "id": "b5b444c2",
   "metadata": {},
   "outputs": [
    {
     "data": {
      "text/plain": [
       "73.5"
      ]
     },
     "execution_count": 100,
     "metadata": {},
     "output_type": "execute_result"
    }
   ],
   "source": [
    "all_top_songs[all_top_songs['top genre'] == 'electro'].nrgy.mean()"
   ]
  },
  {
   "cell_type": "code",
   "execution_count": 99,
   "id": "d039c684",
   "metadata": {},
   "outputs": [
    {
     "data": {
      "text/plain": [
       "87.5"
      ]
     },
     "execution_count": 99,
     "metadata": {},
     "output_type": "execute_result"
    }
   ],
   "source": [
    "all_top_songs[all_top_songs['top genre'] == 'indie pop'].nrgy.mean()"
   ]
  },
  {
   "cell_type": "code",
   "execution_count": 98,
   "id": "a4ffba33",
   "metadata": {},
   "outputs": [
    {
     "data": {
      "text/plain": [
       "68.5"
      ]
     },
     "execution_count": 98,
     "metadata": {},
     "output_type": "execute_result"
    }
   ],
   "source": [
    "all_top_songs[all_top_songs['top genre'] == 'detroit hip hop'].nrgy.mean()"
   ]
  },
  {
   "cell_type": "code",
   "execution_count": 97,
   "id": "d6b4db55",
   "metadata": {},
   "outputs": [
    {
     "data": {
      "text/plain": [
       "64.77777777777777"
      ]
     },
     "execution_count": 97,
     "metadata": {},
     "output_type": "execute_result"
    }
   ],
   "source": [
    "all_top_songs[all_top_songs['top genre'] == 'candy pop'].nrgy.mean()"
   ]
  },
  {
   "cell_type": "code",
   "execution_count": 96,
   "id": "01168901",
   "metadata": {},
   "outputs": [
    {
     "data": {
      "text/plain": [
       "61.0"
      ]
     },
     "execution_count": 96,
     "metadata": {},
     "output_type": "execute_result"
    }
   ],
   "source": [
    "all_top_songs[all_top_songs['top genre'] == 'acoustic pop'].nrgy.mean()"
   ]
  },
  {
   "cell_type": "code",
   "execution_count": 95,
   "id": "2bb5a269",
   "metadata": {},
   "outputs": [
    {
     "data": {
      "text/plain": [
       "53.0"
      ]
     },
     "execution_count": 95,
     "metadata": {},
     "output_type": "execute_result"
    }
   ],
   "source": [
    "all_top_songs[all_top_songs['top genre'] == 'canadian hip hop'].nrgy.mean()"
   ]
  },
  {
   "cell_type": "code",
   "execution_count": 94,
   "id": "fa0a49b6",
   "metadata": {},
   "outputs": [
    {
     "data": {
      "text/plain": [
       "69.0"
      ]
     },
     "execution_count": 94,
     "metadata": {},
     "output_type": "execute_result"
    }
   ],
   "source": [
    "all_top_songs[all_top_songs['top genre'] == 'baroque pop'].nrgy.mean()"
   ]
  },
  {
   "cell_type": "code",
   "execution_count": 93,
   "id": "5cad42a7",
   "metadata": {},
   "outputs": [
    {
     "data": {
      "text/plain": [
       "87.0"
      ]
     },
     "execution_count": 93,
     "metadata": {},
     "output_type": "execute_result"
    }
   ],
   "source": [
    "all_top_songs[all_top_songs['top genre'] == 'celtic rock'].nrgy.mean()"
   ]
  },
  {
   "cell_type": "code",
   "execution_count": 92,
   "id": "d78681dd",
   "metadata": {},
   "outputs": [
    {
     "data": {
      "text/plain": [
       "76.0"
      ]
     },
     "execution_count": 92,
     "metadata": {},
     "output_type": "execute_result"
    }
   ],
   "source": [
    "all_top_songs[all_top_songs['top genre'] == 'moroccan pop'].nrgy.mean()"
   ]
  },
  {
   "cell_type": "code",
   "execution_count": 91,
   "id": "31b18802",
   "metadata": {},
   "outputs": [
    {
     "data": {
      "text/plain": [
       "59.0"
      ]
     },
     "execution_count": 91,
     "metadata": {},
     "output_type": "execute_result"
    }
   ],
   "source": [
    "all_top_songs[all_top_songs['top genre'] == 'contemporary country'].nrgy.mean()"
   ]
  },
  {
   "cell_type": "code",
   "execution_count": 90,
   "id": "929dcae7",
   "metadata": {},
   "outputs": [
    {
     "data": {
      "text/plain": [
       "69.0"
      ]
     },
     "execution_count": 90,
     "metadata": {},
     "output_type": "execute_result"
    }
   ],
   "source": [
    "all_top_songs[all_top_songs['top genre'] == 'chicago rap'].nrgy.mean()"
   ]
  },
  {
   "cell_type": "code",
   "execution_count": 89,
   "id": "fd0066e1",
   "metadata": {},
   "outputs": [
    {
     "data": {
      "text/plain": [
       "88.0"
      ]
     },
     "execution_count": 89,
     "metadata": {},
     "output_type": "execute_result"
    }
   ],
   "source": [
    "all_top_songs[all_top_songs['top genre'] == 'electro house'].nrgy.mean()"
   ]
  },
  {
   "cell_type": "code",
   "execution_count": 88,
   "id": "f328845f",
   "metadata": {},
   "outputs": [
    {
     "data": {
      "text/plain": [
       "72.0"
      ]
     },
     "execution_count": 88,
     "metadata": {},
     "output_type": "execute_result"
    }
   ],
   "source": [
    "all_top_songs[all_top_songs['top genre'] == 'australian hip hop'].nrgy.mean()"
   ]
  },
  {
   "cell_type": "code",
   "execution_count": 87,
   "id": "2d3f18df",
   "metadata": {},
   "outputs": [
    {
     "data": {
      "text/plain": [
       "47.0"
      ]
     },
     "execution_count": 87,
     "metadata": {},
     "output_type": "execute_result"
    }
   ],
   "source": [
    "all_top_songs[all_top_songs['top genre'] == 'canadian latin'].nrgy.mean()"
   ]
  },
  {
   "cell_type": "code",
   "execution_count": 86,
   "id": "0bc9ec2d",
   "metadata": {},
   "outputs": [
    {
     "data": {
      "text/plain": [
       "73.0"
      ]
     },
     "execution_count": 86,
     "metadata": {},
     "output_type": "execute_result"
    }
   ],
   "source": [
    "all_top_songs[all_top_songs['top genre'] == 'house'].nrgy.mean()"
   ]
  },
  {
   "cell_type": "code",
   "execution_count": 84,
   "id": "46198952",
   "metadata": {},
   "outputs": [
    {
     "data": {
      "text/plain": [
       "47.0"
      ]
     },
     "execution_count": 84,
     "metadata": {},
     "output_type": "execute_result"
    }
   ],
   "source": [
    "all_top_songs[all_top_songs['top genre'] == 'danish pop'].nrgy.mean()"
   ]
  },
  {
   "cell_type": "code",
   "execution_count": 85,
   "id": "507fac7e",
   "metadata": {},
   "outputs": [
    {
     "data": {
      "text/plain": [
       "89.0"
      ]
     },
     "execution_count": 85,
     "metadata": {},
     "output_type": "execute_result"
    }
   ],
   "source": [
    "all_top_songs[all_top_songs['top genre'] == 'french indie pop'].nrgy.mean()"
   ]
  },
  {
   "cell_type": "code",
   "execution_count": 83,
   "id": "866037fb",
   "metadata": {},
   "outputs": [
    {
     "data": {
      "text/plain": [
       "34.0"
      ]
     },
     "execution_count": 83,
     "metadata": {},
     "output_type": "execute_result"
    }
   ],
   "source": [
    "all_top_songs[all_top_songs['top genre'] == 'alaska indie'].nrgy.mean()"
   ]
  },
  {
   "cell_type": "code",
   "execution_count": 82,
   "id": "984d4f93",
   "metadata": {},
   "outputs": [
    {
     "data": {
      "text/plain": [
       "66.0"
      ]
     },
     "execution_count": 82,
     "metadata": {},
     "output_type": "execute_result"
    }
   ],
   "source": [
    "all_top_songs[all_top_songs['top genre'] == 'irish singer-songwriter'].nrgy.mean()"
   ]
  },
  {
   "cell_type": "code",
   "execution_count": 72,
   "id": "e39c14a7",
   "metadata": {},
   "outputs": [
    {
     "data": {
      "text/plain": [
       "82.0"
      ]
     },
     "execution_count": 72,
     "metadata": {},
     "output_type": "execute_result"
    }
   ],
   "source": [
    "all_top_songs[all_top_songs['top genre'] == 'hollywood'].nrgy.mean()"
   ]
  },
  {
   "cell_type": "code",
   "execution_count": 71,
   "id": "a4ec02e5",
   "metadata": {},
   "outputs": [
    {
     "data": {
      "text/plain": [
       "72.0"
      ]
     },
     "execution_count": 71,
     "metadata": {},
     "output_type": "execute_result"
    }
   ],
   "source": [
    "all_top_songs[all_top_songs['top genre'] == 'metropopolis'].nrgy.mean()"
   ]
  },
  {
   "cell_type": "code",
   "execution_count": 70,
   "id": "04381c89",
   "metadata": {},
   "outputs": [
    {
     "data": {
      "text/plain": [
       "40.0"
      ]
     },
     "execution_count": 70,
     "metadata": {},
     "output_type": "execute_result"
    }
   ],
   "source": [
    "all_top_songs[all_top_songs['top genre'] == 'alternative r&b'].nrgy.mean()"
   ]
  },
  {
   "cell_type": "markdown",
   "id": "0fa44181",
   "metadata": {},
   "source": [
    "#### French Indie Pop is the genre with the highest energy score (89.0)."
   ]
  },
  {
   "cell_type": "markdown",
   "id": "9c7d7ef7",
   "metadata": {},
   "source": [
    "## What percentage of songs may have been recorded live?"
   ]
  },
  {
   "cell_type": "markdown",
   "id": "b19a6041",
   "metadata": {},
   "source": [
    "18 songs, as seen below, have a live score of more than 50."
   ]
  },
  {
   "cell_type": "code",
   "execution_count": 84,
   "id": "878ff594",
   "metadata": {},
   "outputs": [
    {
     "data": {
      "text/html": [
       "<div>\n",
       "<style scoped>\n",
       "    .dataframe tbody tr th:only-of-type {\n",
       "        vertical-align: middle;\n",
       "    }\n",
       "\n",
       "    .dataframe tbody tr th {\n",
       "        vertical-align: top;\n",
       "    }\n",
       "\n",
       "    .dataframe thead th {\n",
       "        text-align: right;\n",
       "    }\n",
       "</style>\n",
       "<table border=\"1\" class=\"dataframe\">\n",
       "  <thead>\n",
       "    <tr style=\"text-align: right;\">\n",
       "      <th></th>\n",
       "      <th>Unnamed: 0</th>\n",
       "      <th>title</th>\n",
       "      <th>artist</th>\n",
       "      <th>top genre</th>\n",
       "      <th>year</th>\n",
       "      <th>bpm</th>\n",
       "      <th>nrgy</th>\n",
       "      <th>dnce</th>\n",
       "      <th>dB</th>\n",
       "      <th>live</th>\n",
       "      <th>val</th>\n",
       "      <th>dur</th>\n",
       "      <th>acous</th>\n",
       "      <th>spch</th>\n",
       "      <th>pop</th>\n",
       "      <th>id</th>\n",
       "    </tr>\n",
       "  </thead>\n",
       "  <tbody>\n",
       "    <tr>\n",
       "      <th>400</th>\n",
       "      <td>401</td>\n",
       "      <td>NO</td>\n",
       "      <td>Meghan Trainor</td>\n",
       "      <td>dance pop</td>\n",
       "      <td>2016</td>\n",
       "      <td>92</td>\n",
       "      <td>80</td>\n",
       "      <td>56</td>\n",
       "      <td>-4</td>\n",
       "      <td>74</td>\n",
       "      <td>65</td>\n",
       "      <td>214</td>\n",
       "      <td>1</td>\n",
       "      <td>22</td>\n",
       "      <td>70</td>\n",
       "      <td>400</td>\n",
       "    </tr>\n",
       "    <tr>\n",
       "      <th>581</th>\n",
       "      <td>582</td>\n",
       "      <td>Good as Hell (feat. Ariana Grande) - Remix</td>\n",
       "      <td>Lizzo</td>\n",
       "      <td>escape room</td>\n",
       "      <td>2019</td>\n",
       "      <td>96</td>\n",
       "      <td>89</td>\n",
       "      <td>67</td>\n",
       "      <td>-3</td>\n",
       "      <td>74</td>\n",
       "      <td>48</td>\n",
       "      <td>159</td>\n",
       "      <td>30</td>\n",
       "      <td>6</td>\n",
       "      <td>90</td>\n",
       "      <td>581</td>\n",
       "    </tr>\n",
       "    <tr>\n",
       "      <th>12</th>\n",
       "      <td>13</td>\n",
       "      <td>Cooler Than Me - Single Mix</td>\n",
       "      <td>Mike Posner</td>\n",
       "      <td>dance pop</td>\n",
       "      <td>2010</td>\n",
       "      <td>130</td>\n",
       "      <td>82</td>\n",
       "      <td>77</td>\n",
       "      <td>-5</td>\n",
       "      <td>70</td>\n",
       "      <td>63</td>\n",
       "      <td>213</td>\n",
       "      <td>18</td>\n",
       "      <td>5</td>\n",
       "      <td>73</td>\n",
       "      <td>12</td>\n",
       "    </tr>\n",
       "    <tr>\n",
       "      <th>354</th>\n",
       "      <td>355</td>\n",
       "      <td>Time of Our Lives</td>\n",
       "      <td>Pitbull</td>\n",
       "      <td>dance pop</td>\n",
       "      <td>2015</td>\n",
       "      <td>124</td>\n",
       "      <td>80</td>\n",
       "      <td>72</td>\n",
       "      <td>-6</td>\n",
       "      <td>69</td>\n",
       "      <td>72</td>\n",
       "      <td>229</td>\n",
       "      <td>9</td>\n",
       "      <td>6</td>\n",
       "      <td>45</td>\n",
       "      <td>354</td>\n",
       "    </tr>\n",
       "    <tr>\n",
       "      <th>63</th>\n",
       "      <td>64</td>\n",
       "      <td>Monster</td>\n",
       "      <td>Kanye West</td>\n",
       "      <td>chicago rap</td>\n",
       "      <td>2011</td>\n",
       "      <td>125</td>\n",
       "      <td>69</td>\n",
       "      <td>63</td>\n",
       "      <td>-6</td>\n",
       "      <td>67</td>\n",
       "      <td>10</td>\n",
       "      <td>379</td>\n",
       "      <td>0</td>\n",
       "      <td>20</td>\n",
       "      <td>73</td>\n",
       "      <td>63</td>\n",
       "    </tr>\n",
       "    <tr>\n",
       "      <th>101</th>\n",
       "      <td>102</td>\n",
       "      <td>Last Friday Night (T.G.I.F.)</td>\n",
       "      <td>Katy Perry</td>\n",
       "      <td>dance pop</td>\n",
       "      <td>2011</td>\n",
       "      <td>126</td>\n",
       "      <td>81</td>\n",
       "      <td>65</td>\n",
       "      <td>-4</td>\n",
       "      <td>67</td>\n",
       "      <td>72</td>\n",
       "      <td>231</td>\n",
       "      <td>0</td>\n",
       "      <td>4</td>\n",
       "      <td>27</td>\n",
       "      <td>101</td>\n",
       "    </tr>\n",
       "    <tr>\n",
       "      <th>175</th>\n",
       "      <td>176</td>\n",
       "      <td>Play Hard (feat. Ne-Yo &amp; Akon) - New Edit</td>\n",
       "      <td>David Guetta</td>\n",
       "      <td>dance pop</td>\n",
       "      <td>2013</td>\n",
       "      <td>130</td>\n",
       "      <td>87</td>\n",
       "      <td>72</td>\n",
       "      <td>-3</td>\n",
       "      <td>66</td>\n",
       "      <td>68</td>\n",
       "      <td>209</td>\n",
       "      <td>4</td>\n",
       "      <td>4</td>\n",
       "      <td>67</td>\n",
       "      <td>175</td>\n",
       "    </tr>\n",
       "    <tr>\n",
       "      <th>42</th>\n",
       "      <td>43</td>\n",
       "      <td>Hard</td>\n",
       "      <td>Rihanna</td>\n",
       "      <td>barbadian pop</td>\n",
       "      <td>2010</td>\n",
       "      <td>182</td>\n",
       "      <td>75</td>\n",
       "      <td>31</td>\n",
       "      <td>-4</td>\n",
       "      <td>65</td>\n",
       "      <td>16</td>\n",
       "      <td>251</td>\n",
       "      <td>1</td>\n",
       "      <td>11</td>\n",
       "      <td>57</td>\n",
       "      <td>42</td>\n",
       "    </tr>\n",
       "    <tr>\n",
       "      <th>292</th>\n",
       "      <td>293</td>\n",
       "      <td>Don't</td>\n",
       "      <td>Ed Sheeran</td>\n",
       "      <td>pop</td>\n",
       "      <td>2015</td>\n",
       "      <td>95</td>\n",
       "      <td>61</td>\n",
       "      <td>81</td>\n",
       "      <td>-7</td>\n",
       "      <td>64</td>\n",
       "      <td>85</td>\n",
       "      <td>220</td>\n",
       "      <td>1</td>\n",
       "      <td>7</td>\n",
       "      <td>74</td>\n",
       "      <td>292</td>\n",
       "    </tr>\n",
       "    <tr>\n",
       "      <th>559</th>\n",
       "      <td>560</td>\n",
       "      <td>Walk On Water (feat. Beyoncé)</td>\n",
       "      <td>Eminem</td>\n",
       "      <td>detroit hip hop</td>\n",
       "      <td>2018</td>\n",
       "      <td>82</td>\n",
       "      <td>44</td>\n",
       "      <td>48</td>\n",
       "      <td>-10</td>\n",
       "      <td>64</td>\n",
       "      <td>62</td>\n",
       "      <td>304</td>\n",
       "      <td>81</td>\n",
       "      <td>24</td>\n",
       "      <td>65</td>\n",
       "      <td>559</td>\n",
       "    </tr>\n",
       "    <tr>\n",
       "      <th>194</th>\n",
       "      <td>195</td>\n",
       "      <td>Take Back the Night</td>\n",
       "      <td>Justin Timberlake</td>\n",
       "      <td>dance pop</td>\n",
       "      <td>2013</td>\n",
       "      <td>107</td>\n",
       "      <td>66</td>\n",
       "      <td>59</td>\n",
       "      <td>-5</td>\n",
       "      <td>64</td>\n",
       "      <td>33</td>\n",
       "      <td>353</td>\n",
       "      <td>4</td>\n",
       "      <td>16</td>\n",
       "      <td>54</td>\n",
       "      <td>194</td>\n",
       "    </tr>\n",
       "    <tr>\n",
       "      <th>338</th>\n",
       "      <td>339</td>\n",
       "      <td>Prayer in C - Robin Schulz Radio Edit</td>\n",
       "      <td>Lilly Wood and The Prick</td>\n",
       "      <td>french indie pop</td>\n",
       "      <td>2015</td>\n",
       "      <td>123</td>\n",
       "      <td>89</td>\n",
       "      <td>76</td>\n",
       "      <td>-5</td>\n",
       "      <td>62</td>\n",
       "      <td>78</td>\n",
       "      <td>189</td>\n",
       "      <td>2</td>\n",
       "      <td>3</td>\n",
       "      <td>58</td>\n",
       "      <td>338</td>\n",
       "    </tr>\n",
       "    <tr>\n",
       "      <th>17</th>\n",
       "      <td>18</td>\n",
       "      <td>The Time (Dirty Bit)</td>\n",
       "      <td>The Black Eyed Peas</td>\n",
       "      <td>dance pop</td>\n",
       "      <td>2010</td>\n",
       "      <td>128</td>\n",
       "      <td>81</td>\n",
       "      <td>82</td>\n",
       "      <td>-8</td>\n",
       "      <td>60</td>\n",
       "      <td>44</td>\n",
       "      <td>308</td>\n",
       "      <td>7</td>\n",
       "      <td>7</td>\n",
       "      <td>70</td>\n",
       "      <td>17</td>\n",
       "    </tr>\n",
       "    <tr>\n",
       "      <th>58</th>\n",
       "      <td>59</td>\n",
       "      <td>Love On Top</td>\n",
       "      <td>Beyoncé</td>\n",
       "      <td>dance pop</td>\n",
       "      <td>2011</td>\n",
       "      <td>94</td>\n",
       "      <td>75</td>\n",
       "      <td>65</td>\n",
       "      <td>-5</td>\n",
       "      <td>60</td>\n",
       "      <td>65</td>\n",
       "      <td>267</td>\n",
       "      <td>8</td>\n",
       "      <td>9</td>\n",
       "      <td>76</td>\n",
       "      <td>58</td>\n",
       "    </tr>\n",
       "    <tr>\n",
       "      <th>288</th>\n",
       "      <td>289</td>\n",
       "      <td>Animals</td>\n",
       "      <td>Maroon 5</td>\n",
       "      <td>pop</td>\n",
       "      <td>2015</td>\n",
       "      <td>190</td>\n",
       "      <td>74</td>\n",
       "      <td>28</td>\n",
       "      <td>-6</td>\n",
       "      <td>59</td>\n",
       "      <td>33</td>\n",
       "      <td>231</td>\n",
       "      <td>0</td>\n",
       "      <td>9</td>\n",
       "      <td>76</td>\n",
       "      <td>288</td>\n",
       "    </tr>\n",
       "    <tr>\n",
       "      <th>45</th>\n",
       "      <td>46</td>\n",
       "      <td>Not Myself Tonight</td>\n",
       "      <td>Christina Aguilera</td>\n",
       "      <td>dance pop</td>\n",
       "      <td>2010</td>\n",
       "      <td>120</td>\n",
       "      <td>81</td>\n",
       "      <td>76</td>\n",
       "      <td>-5</td>\n",
       "      <td>56</td>\n",
       "      <td>54</td>\n",
       "      <td>186</td>\n",
       "      <td>0</td>\n",
       "      <td>4</td>\n",
       "      <td>55</td>\n",
       "      <td>45</td>\n",
       "    </tr>\n",
       "    <tr>\n",
       "      <th>179</th>\n",
       "      <td>180</td>\n",
       "      <td>Move</td>\n",
       "      <td>Little Mix</td>\n",
       "      <td>dance pop</td>\n",
       "      <td>2013</td>\n",
       "      <td>121</td>\n",
       "      <td>74</td>\n",
       "      <td>85</td>\n",
       "      <td>-5</td>\n",
       "      <td>55</td>\n",
       "      <td>77</td>\n",
       "      <td>224</td>\n",
       "      <td>0</td>\n",
       "      <td>9</td>\n",
       "      <td>63</td>\n",
       "      <td>179</td>\n",
       "    </tr>\n",
       "    <tr>\n",
       "      <th>1</th>\n",
       "      <td>2</td>\n",
       "      <td>Love The Way You Lie</td>\n",
       "      <td>Eminem</td>\n",
       "      <td>detroit hip hop</td>\n",
       "      <td>2010</td>\n",
       "      <td>87</td>\n",
       "      <td>93</td>\n",
       "      <td>75</td>\n",
       "      <td>-5</td>\n",
       "      <td>52</td>\n",
       "      <td>64</td>\n",
       "      <td>263</td>\n",
       "      <td>24</td>\n",
       "      <td>23</td>\n",
       "      <td>82</td>\n",
       "      <td>1</td>\n",
       "    </tr>\n",
       "    <tr>\n",
       "      <th>494</th>\n",
       "      <td>495</td>\n",
       "      <td>Touch (feat. Kid Ink)</td>\n",
       "      <td>Little Mix</td>\n",
       "      <td>dance pop</td>\n",
       "      <td>2017</td>\n",
       "      <td>102</td>\n",
       "      <td>75</td>\n",
       "      <td>64</td>\n",
       "      <td>-4</td>\n",
       "      <td>49</td>\n",
       "      <td>53</td>\n",
       "      <td>203</td>\n",
       "      <td>4</td>\n",
       "      <td>11</td>\n",
       "      <td>59</td>\n",
       "      <td>494</td>\n",
       "    </tr>\n",
       "  </tbody>\n",
       "</table>\n",
       "</div>"
      ],
      "text/plain": [
       "     Unnamed: 0                                       title  \\\n",
       "400         401                                          NO   \n",
       "581         582  Good as Hell (feat. Ariana Grande) - Remix   \n",
       "12           13                 Cooler Than Me - Single Mix   \n",
       "354         355                           Time of Our Lives   \n",
       "63           64                                     Monster   \n",
       "101         102                Last Friday Night (T.G.I.F.)   \n",
       "175         176   Play Hard (feat. Ne-Yo & Akon) - New Edit   \n",
       "42           43                                        Hard   \n",
       "292         293                                       Don't   \n",
       "559         560               Walk On Water (feat. Beyoncé)   \n",
       "194         195                         Take Back the Night   \n",
       "338         339       Prayer in C - Robin Schulz Radio Edit   \n",
       "17           18                        The Time (Dirty Bit)   \n",
       "58           59                                 Love On Top   \n",
       "288         289                                     Animals   \n",
       "45           46                          Not Myself Tonight   \n",
       "179         180                                        Move   \n",
       "1             2                        Love The Way You Lie   \n",
       "494         495                       Touch (feat. Kid Ink)   \n",
       "\n",
       "                       artist         top genre  year  bpm  nrgy  dnce  dB  \\\n",
       "400            Meghan Trainor         dance pop  2016   92    80    56  -4   \n",
       "581                     Lizzo       escape room  2019   96    89    67  -3   \n",
       "12                Mike Posner         dance pop  2010  130    82    77  -5   \n",
       "354                   Pitbull         dance pop  2015  124    80    72  -6   \n",
       "63                 Kanye West       chicago rap  2011  125    69    63  -6   \n",
       "101                Katy Perry         dance pop  2011  126    81    65  -4   \n",
       "175              David Guetta         dance pop  2013  130    87    72  -3   \n",
       "42                    Rihanna     barbadian pop  2010  182    75    31  -4   \n",
       "292                Ed Sheeran               pop  2015   95    61    81  -7   \n",
       "559                    Eminem   detroit hip hop  2018   82    44    48 -10   \n",
       "194         Justin Timberlake         dance pop  2013  107    66    59  -5   \n",
       "338  Lilly Wood and The Prick  french indie pop  2015  123    89    76  -5   \n",
       "17        The Black Eyed Peas         dance pop  2010  128    81    82  -8   \n",
       "58                    Beyoncé         dance pop  2011   94    75    65  -5   \n",
       "288                  Maroon 5               pop  2015  190    74    28  -6   \n",
       "45         Christina Aguilera         dance pop  2010  120    81    76  -5   \n",
       "179                Little Mix         dance pop  2013  121    74    85  -5   \n",
       "1                      Eminem   detroit hip hop  2010   87    93    75  -5   \n",
       "494                Little Mix         dance pop  2017  102    75    64  -4   \n",
       "\n",
       "     live  val  dur  acous  spch  pop   id  \n",
       "400    74   65  214      1    22   70  400  \n",
       "581    74   48  159     30     6   90  581  \n",
       "12     70   63  213     18     5   73   12  \n",
       "354    69   72  229      9     6   45  354  \n",
       "63     67   10  379      0    20   73   63  \n",
       "101    67   72  231      0     4   27  101  \n",
       "175    66   68  209      4     4   67  175  \n",
       "42     65   16  251      1    11   57   42  \n",
       "292    64   85  220      1     7   74  292  \n",
       "559    64   62  304     81    24   65  559  \n",
       "194    64   33  353      4    16   54  194  \n",
       "338    62   78  189      2     3   58  338  \n",
       "17     60   44  308      7     7   70   17  \n",
       "58     60   65  267      8     9   76   58  \n",
       "288    59   33  231      0     9   76  288  \n",
       "45     56   54  186      0     4   55   45  \n",
       "179    55   77  224      0     9   63  179  \n",
       "1      52   64  263     24    23   82    1  \n",
       "494    49   53  203      4    11   59  494  "
      ]
     },
     "execution_count": 84,
     "metadata": {},
     "output_type": "execute_result"
    }
   ],
   "source": [
    "all_top_songs.sort_values(by='live', ascending=False).head(18)"
   ]
  },
  {
   "cell_type": "markdown",
   "id": "446721a7",
   "metadata": {},
   "source": [
    "There are a total of 603 songs in the dataset. Hence, the percentage of songs that were recorded live would be:\n",
    "\n",
    "18/603 = 0.03\n",
    "\n",
    "#### 3% of songs may have been recorded live."
   ]
  },
  {
   "cell_type": "markdown",
   "id": "068db90d",
   "metadata": {},
   "source": [
    "## What percentage of songs were acoustic?"
   ]
  },
  {
   "cell_type": "markdown",
   "id": "586d4635",
   "metadata": {},
   "source": [
    "44 songs, as seen below, have an acoustic score above 50."
   ]
  },
  {
   "cell_type": "code",
   "execution_count": 92,
   "id": "f1fb096c",
   "metadata": {},
   "outputs": [
    {
     "data": {
      "text/html": [
       "<div>\n",
       "<style scoped>\n",
       "    .dataframe tbody tr th:only-of-type {\n",
       "        vertical-align: middle;\n",
       "    }\n",
       "\n",
       "    .dataframe tbody tr th {\n",
       "        vertical-align: top;\n",
       "    }\n",
       "\n",
       "    .dataframe thead th {\n",
       "        text-align: right;\n",
       "    }\n",
       "</style>\n",
       "<table border=\"1\" class=\"dataframe\">\n",
       "  <thead>\n",
       "    <tr style=\"text-align: right;\">\n",
       "      <th></th>\n",
       "      <th>Unnamed: 0</th>\n",
       "      <th>title</th>\n",
       "      <th>artist</th>\n",
       "      <th>top genre</th>\n",
       "      <th>year</th>\n",
       "      <th>bpm</th>\n",
       "      <th>nrgy</th>\n",
       "      <th>dnce</th>\n",
       "      <th>dB</th>\n",
       "      <th>live</th>\n",
       "      <th>val</th>\n",
       "      <th>dur</th>\n",
       "      <th>acous</th>\n",
       "      <th>spch</th>\n",
       "      <th>pop</th>\n",
       "      <th>id</th>\n",
       "    </tr>\n",
       "  </thead>\n",
       "  <tbody>\n",
       "    <tr>\n",
       "      <th>431</th>\n",
       "      <td>432</td>\n",
       "      <td>Start</td>\n",
       "      <td>John Legend</td>\n",
       "      <td>neo mellow</td>\n",
       "      <td>2016</td>\n",
       "      <td>110</td>\n",
       "      <td>4</td>\n",
       "      <td>52</td>\n",
       "      <td>-15</td>\n",
       "      <td>9</td>\n",
       "      <td>26</td>\n",
       "      <td>310</td>\n",
       "      <td>99</td>\n",
       "      <td>4</td>\n",
       "      <td>47</td>\n",
       "      <td>431</td>\n",
       "    </tr>\n",
       "    <tr>\n",
       "      <th>255</th>\n",
       "      <td>256</td>\n",
       "      <td>Not About Angels</td>\n",
       "      <td>Birdy</td>\n",
       "      <td>neo mellow</td>\n",
       "      <td>2014</td>\n",
       "      <td>116</td>\n",
       "      <td>14</td>\n",
       "      <td>41</td>\n",
       "      <td>-10</td>\n",
       "      <td>9</td>\n",
       "      <td>23</td>\n",
       "      <td>190</td>\n",
       "      <td>97</td>\n",
       "      <td>4</td>\n",
       "      <td>56</td>\n",
       "      <td>255</td>\n",
       "    </tr>\n",
       "    <tr>\n",
       "      <th>186</th>\n",
       "      <td>187</td>\n",
       "      <td>Clown</td>\n",
       "      <td>Emeli Sandé</td>\n",
       "      <td>dance pop</td>\n",
       "      <td>2013</td>\n",
       "      <td>130</td>\n",
       "      <td>23</td>\n",
       "      <td>45</td>\n",
       "      <td>-8</td>\n",
       "      <td>11</td>\n",
       "      <td>23</td>\n",
       "      <td>221</td>\n",
       "      <td>92</td>\n",
       "      <td>4</td>\n",
       "      <td>60</td>\n",
       "      <td>186</td>\n",
       "    </tr>\n",
       "    <tr>\n",
       "      <th>210</th>\n",
       "      <td>211</td>\n",
       "      <td>All of Me</td>\n",
       "      <td>John Legend</td>\n",
       "      <td>neo mellow</td>\n",
       "      <td>2014</td>\n",
       "      <td>120</td>\n",
       "      <td>26</td>\n",
       "      <td>42</td>\n",
       "      <td>-7</td>\n",
       "      <td>13</td>\n",
       "      <td>33</td>\n",
       "      <td>270</td>\n",
       "      <td>92</td>\n",
       "      <td>3</td>\n",
       "      <td>86</td>\n",
       "      <td>210</td>\n",
       "    </tr>\n",
       "    <tr>\n",
       "      <th>96</th>\n",
       "      <td>97</td>\n",
       "      <td>Turning Page</td>\n",
       "      <td>Sleeping At Last</td>\n",
       "      <td>acoustic pop</td>\n",
       "      <td>2011</td>\n",
       "      <td>125</td>\n",
       "      <td>38</td>\n",
       "      <td>30</td>\n",
       "      <td>-8</td>\n",
       "      <td>11</td>\n",
       "      <td>19</td>\n",
       "      <td>255</td>\n",
       "      <td>91</td>\n",
       "      <td>3</td>\n",
       "      <td>46</td>\n",
       "      <td>96</td>\n",
       "    </tr>\n",
       "    <tr>\n",
       "      <th>436</th>\n",
       "      <td>437</td>\n",
       "      <td>Beautiful Birds (feat. Birdy)</td>\n",
       "      <td>Passenger</td>\n",
       "      <td>folk-pop</td>\n",
       "      <td>2016</td>\n",
       "      <td>86</td>\n",
       "      <td>17</td>\n",
       "      <td>39</td>\n",
       "      <td>-13</td>\n",
       "      <td>11</td>\n",
       "      <td>14</td>\n",
       "      <td>214</td>\n",
       "      <td>91</td>\n",
       "      <td>3</td>\n",
       "      <td>36</td>\n",
       "      <td>436</td>\n",
       "    </tr>\n",
       "    <tr>\n",
       "      <th>52</th>\n",
       "      <td>53</td>\n",
       "      <td>Someone Like You</td>\n",
       "      <td>Adele</td>\n",
       "      <td>british soul</td>\n",
       "      <td>2011</td>\n",
       "      <td>135</td>\n",
       "      <td>33</td>\n",
       "      <td>56</td>\n",
       "      <td>-8</td>\n",
       "      <td>10</td>\n",
       "      <td>28</td>\n",
       "      <td>285</td>\n",
       "      <td>89</td>\n",
       "      <td>3</td>\n",
       "      <td>80</td>\n",
       "      <td>52</td>\n",
       "    </tr>\n",
       "    <tr>\n",
       "      <th>330</th>\n",
       "      <td>331</td>\n",
       "      <td>Mark My Words</td>\n",
       "      <td>Justin Bieber</td>\n",
       "      <td>canadian pop</td>\n",
       "      <td>2015</td>\n",
       "      <td>114</td>\n",
       "      <td>26</td>\n",
       "      <td>38</td>\n",
       "      <td>-9</td>\n",
       "      <td>17</td>\n",
       "      <td>52</td>\n",
       "      <td>134</td>\n",
       "      <td>88</td>\n",
       "      <td>3</td>\n",
       "      <td>63</td>\n",
       "      <td>330</td>\n",
       "    </tr>\n",
       "    <tr>\n",
       "      <th>276</th>\n",
       "      <td>277</td>\n",
       "      <td>FourFiveSeconds</td>\n",
       "      <td>Rihanna</td>\n",
       "      <td>barbadian pop</td>\n",
       "      <td>2015</td>\n",
       "      <td>206</td>\n",
       "      <td>27</td>\n",
       "      <td>58</td>\n",
       "      <td>-6</td>\n",
       "      <td>13</td>\n",
       "      <td>35</td>\n",
       "      <td>188</td>\n",
       "      <td>88</td>\n",
       "      <td>5</td>\n",
       "      <td>80</td>\n",
       "      <td>276</td>\n",
       "    </tr>\n",
       "    <tr>\n",
       "      <th>398</th>\n",
       "      <td>399</td>\n",
       "      <td>All I Ask</td>\n",
       "      <td>Adele</td>\n",
       "      <td>british soul</td>\n",
       "      <td>2016</td>\n",
       "      <td>142</td>\n",
       "      <td>28</td>\n",
       "      <td>59</td>\n",
       "      <td>-5</td>\n",
       "      <td>15</td>\n",
       "      <td>34</td>\n",
       "      <td>272</td>\n",
       "      <td>88</td>\n",
       "      <td>3</td>\n",
       "      <td>71</td>\n",
       "      <td>398</td>\n",
       "    </tr>\n",
       "    <tr>\n",
       "      <th>473</th>\n",
       "      <td>474</td>\n",
       "      <td>All I Ask</td>\n",
       "      <td>Adele</td>\n",
       "      <td>british soul</td>\n",
       "      <td>2017</td>\n",
       "      <td>142</td>\n",
       "      <td>28</td>\n",
       "      <td>59</td>\n",
       "      <td>-5</td>\n",
       "      <td>15</td>\n",
       "      <td>34</td>\n",
       "      <td>272</td>\n",
       "      <td>88</td>\n",
       "      <td>3</td>\n",
       "      <td>71</td>\n",
       "      <td>473</td>\n",
       "    </tr>\n",
       "    <tr>\n",
       "      <th>249</th>\n",
       "      <td>250</td>\n",
       "      <td>Say Something</td>\n",
       "      <td>A Great Big World</td>\n",
       "      <td>neo mellow</td>\n",
       "      <td>2014</td>\n",
       "      <td>138</td>\n",
       "      <td>15</td>\n",
       "      <td>45</td>\n",
       "      <td>-9</td>\n",
       "      <td>9</td>\n",
       "      <td>9</td>\n",
       "      <td>229</td>\n",
       "      <td>87</td>\n",
       "      <td>3</td>\n",
       "      <td>61</td>\n",
       "      <td>249</td>\n",
       "    </tr>\n",
       "    <tr>\n",
       "      <th>284</th>\n",
       "      <td>285</td>\n",
       "      <td>Night Changes</td>\n",
       "      <td>One Direction</td>\n",
       "      <td>boy band</td>\n",
       "      <td>2015</td>\n",
       "      <td>120</td>\n",
       "      <td>52</td>\n",
       "      <td>67</td>\n",
       "      <td>-8</td>\n",
       "      <td>12</td>\n",
       "      <td>37</td>\n",
       "      <td>227</td>\n",
       "      <td>86</td>\n",
       "      <td>4</td>\n",
       "      <td>77</td>\n",
       "      <td>284</td>\n",
       "    </tr>\n",
       "    <tr>\n",
       "      <th>44</th>\n",
       "      <td>45</td>\n",
       "      <td>You Lost Me</td>\n",
       "      <td>Christina Aguilera</td>\n",
       "      <td>dance pop</td>\n",
       "      <td>2010</td>\n",
       "      <td>43</td>\n",
       "      <td>39</td>\n",
       "      <td>23</td>\n",
       "      <td>-6</td>\n",
       "      <td>14</td>\n",
       "      <td>7</td>\n",
       "      <td>257</td>\n",
       "      <td>85</td>\n",
       "      <td>4</td>\n",
       "      <td>56</td>\n",
       "      <td>44</td>\n",
       "    </tr>\n",
       "    <tr>\n",
       "      <th>505</th>\n",
       "      <td>506</td>\n",
       "      <td>Free Me</td>\n",
       "      <td>Sia</td>\n",
       "      <td>australian dance</td>\n",
       "      <td>2017</td>\n",
       "      <td>87</td>\n",
       "      <td>46</td>\n",
       "      <td>27</td>\n",
       "      <td>-4</td>\n",
       "      <td>14</td>\n",
       "      <td>21</td>\n",
       "      <td>286</td>\n",
       "      <td>85</td>\n",
       "      <td>3</td>\n",
       "      <td>44</td>\n",
       "      <td>505</td>\n",
       "    </tr>\n",
       "    <tr>\n",
       "      <th>260</th>\n",
       "      <td>261</td>\n",
       "      <td>Tee Shirt - Soundtrack Version</td>\n",
       "      <td>Birdy</td>\n",
       "      <td>neo mellow</td>\n",
       "      <td>2014</td>\n",
       "      <td>76</td>\n",
       "      <td>34</td>\n",
       "      <td>68</td>\n",
       "      <td>-9</td>\n",
       "      <td>9</td>\n",
       "      <td>56</td>\n",
       "      <td>160</td>\n",
       "      <td>84</td>\n",
       "      <td>3</td>\n",
       "      <td>49</td>\n",
       "      <td>260</td>\n",
       "    </tr>\n",
       "    <tr>\n",
       "      <th>271</th>\n",
       "      <td>272</td>\n",
       "      <td>Love Yourself</td>\n",
       "      <td>Justin Bieber</td>\n",
       "      <td>canadian pop</td>\n",
       "      <td>2015</td>\n",
       "      <td>100</td>\n",
       "      <td>38</td>\n",
       "      <td>61</td>\n",
       "      <td>-10</td>\n",
       "      <td>28</td>\n",
       "      <td>52</td>\n",
       "      <td>234</td>\n",
       "      <td>84</td>\n",
       "      <td>44</td>\n",
       "      <td>83</td>\n",
       "      <td>271</td>\n",
       "    </tr>\n",
       "    <tr>\n",
       "      <th>364</th>\n",
       "      <td>365</td>\n",
       "      <td>Love Yourself</td>\n",
       "      <td>Justin Bieber</td>\n",
       "      <td>canadian pop</td>\n",
       "      <td>2016</td>\n",
       "      <td>100</td>\n",
       "      <td>38</td>\n",
       "      <td>61</td>\n",
       "      <td>-10</td>\n",
       "      <td>28</td>\n",
       "      <td>52</td>\n",
       "      <td>234</td>\n",
       "      <td>84</td>\n",
       "      <td>44</td>\n",
       "      <td>83</td>\n",
       "      <td>364</td>\n",
       "    </tr>\n",
       "    <tr>\n",
       "      <th>572</th>\n",
       "      <td>573</td>\n",
       "      <td>Memories</td>\n",
       "      <td>Maroon 5</td>\n",
       "      <td>pop</td>\n",
       "      <td>2019</td>\n",
       "      <td>91</td>\n",
       "      <td>32</td>\n",
       "      <td>76</td>\n",
       "      <td>-7</td>\n",
       "      <td>8</td>\n",
       "      <td>57</td>\n",
       "      <td>189</td>\n",
       "      <td>84</td>\n",
       "      <td>5</td>\n",
       "      <td>99</td>\n",
       "      <td>572</td>\n",
       "    </tr>\n",
       "    <tr>\n",
       "      <th>36</th>\n",
       "      <td>37</td>\n",
       "      <td>Bound To You - Burlesque Original Motion Pictu...</td>\n",
       "      <td>Christina Aguilera</td>\n",
       "      <td>dance pop</td>\n",
       "      <td>2010</td>\n",
       "      <td>164</td>\n",
       "      <td>41</td>\n",
       "      <td>29</td>\n",
       "      <td>-5</td>\n",
       "      <td>13</td>\n",
       "      <td>7</td>\n",
       "      <td>264</td>\n",
       "      <td>83</td>\n",
       "      <td>3</td>\n",
       "      <td>61</td>\n",
       "      <td>36</td>\n",
       "    </tr>\n",
       "    <tr>\n",
       "      <th>559</th>\n",
       "      <td>560</td>\n",
       "      <td>Walk On Water (feat. Beyoncé)</td>\n",
       "      <td>Eminem</td>\n",
       "      <td>detroit hip hop</td>\n",
       "      <td>2018</td>\n",
       "      <td>82</td>\n",
       "      <td>44</td>\n",
       "      <td>48</td>\n",
       "      <td>-10</td>\n",
       "      <td>64</td>\n",
       "      <td>62</td>\n",
       "      <td>304</td>\n",
       "      <td>81</td>\n",
       "      <td>24</td>\n",
       "      <td>65</td>\n",
       "      <td>559</td>\n",
       "    </tr>\n",
       "    <tr>\n",
       "      <th>329</th>\n",
       "      <td>330</td>\n",
       "      <td>What Do You Mean? - Acoustic</td>\n",
       "      <td>Justin Bieber</td>\n",
       "      <td>canadian pop</td>\n",
       "      <td>2015</td>\n",
       "      <td>125</td>\n",
       "      <td>36</td>\n",
       "      <td>77</td>\n",
       "      <td>-11</td>\n",
       "      <td>10</td>\n",
       "      <td>76</td>\n",
       "      <td>204</td>\n",
       "      <td>79</td>\n",
       "      <td>4</td>\n",
       "      <td>64</td>\n",
       "      <td>329</td>\n",
       "    </tr>\n",
       "    <tr>\n",
       "      <th>528</th>\n",
       "      <td>529</td>\n",
       "      <td>Perfect Duet (Ed Sheeran &amp; Beyoncé)</td>\n",
       "      <td>Ed Sheeran</td>\n",
       "      <td>pop</td>\n",
       "      <td>2018</td>\n",
       "      <td>95</td>\n",
       "      <td>30</td>\n",
       "      <td>59</td>\n",
       "      <td>-7</td>\n",
       "      <td>12</td>\n",
       "      <td>36</td>\n",
       "      <td>260</td>\n",
       "      <td>78</td>\n",
       "      <td>3</td>\n",
       "      <td>78</td>\n",
       "      <td>528</td>\n",
       "    </tr>\n",
       "    <tr>\n",
       "      <th>574</th>\n",
       "      <td>575</td>\n",
       "      <td>Someone You Loved</td>\n",
       "      <td>Lewis Capaldi</td>\n",
       "      <td>pop</td>\n",
       "      <td>2019</td>\n",
       "      <td>110</td>\n",
       "      <td>41</td>\n",
       "      <td>50</td>\n",
       "      <td>-6</td>\n",
       "      <td>11</td>\n",
       "      <td>45</td>\n",
       "      <td>182</td>\n",
       "      <td>75</td>\n",
       "      <td>3</td>\n",
       "      <td>96</td>\n",
       "      <td>574</td>\n",
       "    </tr>\n",
       "    <tr>\n",
       "      <th>352</th>\n",
       "      <td>353</td>\n",
       "      <td>St Jude</td>\n",
       "      <td>Florence + The Machine</td>\n",
       "      <td>art pop</td>\n",
       "      <td>2015</td>\n",
       "      <td>117</td>\n",
       "      <td>43</td>\n",
       "      <td>26</td>\n",
       "      <td>-11</td>\n",
       "      <td>11</td>\n",
       "      <td>9</td>\n",
       "      <td>225</td>\n",
       "      <td>75</td>\n",
       "      <td>3</td>\n",
       "      <td>47</td>\n",
       "      <td>352</td>\n",
       "    </tr>\n",
       "    <tr>\n",
       "      <th>8</th>\n",
       "      <td>9</td>\n",
       "      <td>Empire State of Mind (Part II) Broken Down</td>\n",
       "      <td>Alicia Keys</td>\n",
       "      <td>hip pop</td>\n",
       "      <td>2010</td>\n",
       "      <td>93</td>\n",
       "      <td>37</td>\n",
       "      <td>48</td>\n",
       "      <td>-8</td>\n",
       "      <td>12</td>\n",
       "      <td>14</td>\n",
       "      <td>216</td>\n",
       "      <td>74</td>\n",
       "      <td>3</td>\n",
       "      <td>76</td>\n",
       "      <td>8</td>\n",
       "    </tr>\n",
       "    <tr>\n",
       "      <th>94</th>\n",
       "      <td>95</td>\n",
       "      <td>Jar of Hearts</td>\n",
       "      <td>Christina Perri</td>\n",
       "      <td>dance pop</td>\n",
       "      <td>2011</td>\n",
       "      <td>75</td>\n",
       "      <td>35</td>\n",
       "      <td>35</td>\n",
       "      <td>-6</td>\n",
       "      <td>12</td>\n",
       "      <td>9</td>\n",
       "      <td>247</td>\n",
       "      <td>73</td>\n",
       "      <td>3</td>\n",
       "      <td>50</td>\n",
       "      <td>94</td>\n",
       "    </tr>\n",
       "    <tr>\n",
       "      <th>422</th>\n",
       "      <td>423</td>\n",
       "      <td>Wish That You Were Here - From “Miss Peregrine...</td>\n",
       "      <td>Florence + The Machine</td>\n",
       "      <td>art pop</td>\n",
       "      <td>2016</td>\n",
       "      <td>94</td>\n",
       "      <td>57</td>\n",
       "      <td>37</td>\n",
       "      <td>-6</td>\n",
       "      <td>13</td>\n",
       "      <td>12</td>\n",
       "      <td>403</td>\n",
       "      <td>72</td>\n",
       "      <td>3</td>\n",
       "      <td>57</td>\n",
       "      <td>422</td>\n",
       "    </tr>\n",
       "    <tr>\n",
       "      <th>560</th>\n",
       "      <td>561</td>\n",
       "      <td>This Town</td>\n",
       "      <td>Niall Horan</td>\n",
       "      <td>dance pop</td>\n",
       "      <td>2018</td>\n",
       "      <td>112</td>\n",
       "      <td>41</td>\n",
       "      <td>68</td>\n",
       "      <td>-8</td>\n",
       "      <td>12</td>\n",
       "      <td>20</td>\n",
       "      <td>233</td>\n",
       "      <td>70</td>\n",
       "      <td>3</td>\n",
       "      <td>64</td>\n",
       "      <td>560</td>\n",
       "    </tr>\n",
       "    <tr>\n",
       "      <th>424</th>\n",
       "      <td>425</td>\n",
       "      <td>Change</td>\n",
       "      <td>Christina Aguilera</td>\n",
       "      <td>dance pop</td>\n",
       "      <td>2016</td>\n",
       "      <td>82</td>\n",
       "      <td>54</td>\n",
       "      <td>62</td>\n",
       "      <td>-6</td>\n",
       "      <td>13</td>\n",
       "      <td>20</td>\n",
       "      <td>187</td>\n",
       "      <td>68</td>\n",
       "      <td>8</td>\n",
       "      <td>54</td>\n",
       "      <td>424</td>\n",
       "    </tr>\n",
       "    <tr>\n",
       "      <th>192</th>\n",
       "      <td>193</td>\n",
       "      <td>Atlas - From “The Hunger Games: Catching Fire”...</td>\n",
       "      <td>Coldplay</td>\n",
       "      <td>permanent wave</td>\n",
       "      <td>2013</td>\n",
       "      <td>136</td>\n",
       "      <td>45</td>\n",
       "      <td>28</td>\n",
       "      <td>-8</td>\n",
       "      <td>11</td>\n",
       "      <td>11</td>\n",
       "      <td>236</td>\n",
       "      <td>63</td>\n",
       "      <td>3</td>\n",
       "      <td>55</td>\n",
       "      <td>192</td>\n",
       "    </tr>\n",
       "    <tr>\n",
       "      <th>273</th>\n",
       "      <td>274</td>\n",
       "      <td>Take Me To Church</td>\n",
       "      <td>Hozier</td>\n",
       "      <td>irish singer-songwriter</td>\n",
       "      <td>2015</td>\n",
       "      <td>129</td>\n",
       "      <td>66</td>\n",
       "      <td>57</td>\n",
       "      <td>-5</td>\n",
       "      <td>12</td>\n",
       "      <td>44</td>\n",
       "      <td>242</td>\n",
       "      <td>63</td>\n",
       "      <td>5</td>\n",
       "      <td>81</td>\n",
       "      <td>273</td>\n",
       "    </tr>\n",
       "    <tr>\n",
       "      <th>411</th>\n",
       "      <td>412</td>\n",
       "      <td>Don't Be A Fool</td>\n",
       "      <td>Shawn Mendes</td>\n",
       "      <td>canadian pop</td>\n",
       "      <td>2016</td>\n",
       "      <td>175</td>\n",
       "      <td>34</td>\n",
       "      <td>47</td>\n",
       "      <td>-6</td>\n",
       "      <td>10</td>\n",
       "      <td>27</td>\n",
       "      <td>216</td>\n",
       "      <td>60</td>\n",
       "      <td>4</td>\n",
       "      <td>65</td>\n",
       "      <td>411</td>\n",
       "    </tr>\n",
       "    <tr>\n",
       "      <th>279</th>\n",
       "      <td>280</td>\n",
       "      <td>What Do You Mean?</td>\n",
       "      <td>Justin Bieber</td>\n",
       "      <td>canadian pop</td>\n",
       "      <td>2015</td>\n",
       "      <td>125</td>\n",
       "      <td>57</td>\n",
       "      <td>85</td>\n",
       "      <td>-8</td>\n",
       "      <td>8</td>\n",
       "      <td>79</td>\n",
       "      <td>206</td>\n",
       "      <td>59</td>\n",
       "      <td>10</td>\n",
       "      <td>79</td>\n",
       "      <td>279</td>\n",
       "    </tr>\n",
       "    <tr>\n",
       "      <th>211</th>\n",
       "      <td>212</td>\n",
       "      <td>Stay With Me</td>\n",
       "      <td>Sam Smith</td>\n",
       "      <td>pop</td>\n",
       "      <td>2014</td>\n",
       "      <td>84</td>\n",
       "      <td>42</td>\n",
       "      <td>42</td>\n",
       "      <td>-6</td>\n",
       "      <td>11</td>\n",
       "      <td>18</td>\n",
       "      <td>173</td>\n",
       "      <td>59</td>\n",
       "      <td>4</td>\n",
       "      <td>85</td>\n",
       "      <td>211</td>\n",
       "    </tr>\n",
       "    <tr>\n",
       "      <th>499</th>\n",
       "      <td>500</td>\n",
       "      <td>Lust for Life (with The Weeknd)</td>\n",
       "      <td>Lana Del Rey</td>\n",
       "      <td>art pop</td>\n",
       "      <td>2017</td>\n",
       "      <td>100</td>\n",
       "      <td>67</td>\n",
       "      <td>51</td>\n",
       "      <td>-9</td>\n",
       "      <td>36</td>\n",
       "      <td>27</td>\n",
       "      <td>264</td>\n",
       "      <td>58</td>\n",
       "      <td>6</td>\n",
       "      <td>54</td>\n",
       "      <td>499</td>\n",
       "    </tr>\n",
       "    <tr>\n",
       "      <th>573</th>\n",
       "      <td>574</td>\n",
       "      <td>Lose You To Love Me</td>\n",
       "      <td>Selena Gomez</td>\n",
       "      <td>dance pop</td>\n",
       "      <td>2019</td>\n",
       "      <td>102</td>\n",
       "      <td>34</td>\n",
       "      <td>51</td>\n",
       "      <td>-9</td>\n",
       "      <td>21</td>\n",
       "      <td>9</td>\n",
       "      <td>206</td>\n",
       "      <td>58</td>\n",
       "      <td>4</td>\n",
       "      <td>97</td>\n",
       "      <td>573</td>\n",
       "    </tr>\n",
       "    <tr>\n",
       "      <th>443</th>\n",
       "      <td>444</td>\n",
       "      <td>Shape of You</td>\n",
       "      <td>Ed Sheeran</td>\n",
       "      <td>pop</td>\n",
       "      <td>2017</td>\n",
       "      <td>96</td>\n",
       "      <td>65</td>\n",
       "      <td>83</td>\n",
       "      <td>-3</td>\n",
       "      <td>9</td>\n",
       "      <td>93</td>\n",
       "      <td>234</td>\n",
       "      <td>58</td>\n",
       "      <td>8</td>\n",
       "      <td>87</td>\n",
       "      <td>443</td>\n",
       "    </tr>\n",
       "    <tr>\n",
       "      <th>592</th>\n",
       "      <td>593</td>\n",
       "      <td>Girls Like You (feat. Cardi B)</td>\n",
       "      <td>Maroon 5</td>\n",
       "      <td>pop</td>\n",
       "      <td>2019</td>\n",
       "      <td>125</td>\n",
       "      <td>54</td>\n",
       "      <td>85</td>\n",
       "      <td>-7</td>\n",
       "      <td>13</td>\n",
       "      <td>45</td>\n",
       "      <td>236</td>\n",
       "      <td>57</td>\n",
       "      <td>5</td>\n",
       "      <td>81</td>\n",
       "      <td>592</td>\n",
       "    </tr>\n",
       "    <tr>\n",
       "      <th>309</th>\n",
       "      <td>310</td>\n",
       "      <td>Trumpets</td>\n",
       "      <td>Jason Derulo</td>\n",
       "      <td>dance pop</td>\n",
       "      <td>2015</td>\n",
       "      <td>82</td>\n",
       "      <td>70</td>\n",
       "      <td>63</td>\n",
       "      <td>-5</td>\n",
       "      <td>10</td>\n",
       "      <td>64</td>\n",
       "      <td>217</td>\n",
       "      <td>56</td>\n",
       "      <td>24</td>\n",
       "      <td>69</td>\n",
       "      <td>309</td>\n",
       "    </tr>\n",
       "    <tr>\n",
       "      <th>538</th>\n",
       "      <td>539</td>\n",
       "      <td>Youth (feat. Khalid)</td>\n",
       "      <td>Shawn Mendes</td>\n",
       "      <td>canadian pop</td>\n",
       "      <td>2018</td>\n",
       "      <td>100</td>\n",
       "      <td>60</td>\n",
       "      <td>53</td>\n",
       "      <td>-7</td>\n",
       "      <td>13</td>\n",
       "      <td>32</td>\n",
       "      <td>191</td>\n",
       "      <td>56</td>\n",
       "      <td>12</td>\n",
       "      <td>75</td>\n",
       "      <td>538</td>\n",
       "    </tr>\n",
       "    <tr>\n",
       "      <th>103</th>\n",
       "      <td>104</td>\n",
       "      <td>Muny - Album Version (Edited)</td>\n",
       "      <td>Nicki Minaj</td>\n",
       "      <td>dance pop</td>\n",
       "      <td>2011</td>\n",
       "      <td>98</td>\n",
       "      <td>72</td>\n",
       "      <td>80</td>\n",
       "      <td>-5</td>\n",
       "      <td>19</td>\n",
       "      <td>53</td>\n",
       "      <td>227</td>\n",
       "      <td>56</td>\n",
       "      <td>33</td>\n",
       "      <td>7</td>\n",
       "      <td>103</td>\n",
       "    </tr>\n",
       "    <tr>\n",
       "      <th>578</th>\n",
       "      <td>579</td>\n",
       "      <td>Trampoline (with ZAYN)</td>\n",
       "      <td>SHAED</td>\n",
       "      <td>electropop</td>\n",
       "      <td>2019</td>\n",
       "      <td>127</td>\n",
       "      <td>46</td>\n",
       "      <td>62</td>\n",
       "      <td>-6</td>\n",
       "      <td>14</td>\n",
       "      <td>50</td>\n",
       "      <td>184</td>\n",
       "      <td>56</td>\n",
       "      <td>3</td>\n",
       "      <td>92</td>\n",
       "      <td>578</td>\n",
       "    </tr>\n",
       "    <tr>\n",
       "      <th>269</th>\n",
       "      <td>270</td>\n",
       "      <td>I'm Not The Only One</td>\n",
       "      <td>Sam Smith</td>\n",
       "      <td>pop</td>\n",
       "      <td>2015</td>\n",
       "      <td>82</td>\n",
       "      <td>49</td>\n",
       "      <td>68</td>\n",
       "      <td>-6</td>\n",
       "      <td>8</td>\n",
       "      <td>49</td>\n",
       "      <td>239</td>\n",
       "      <td>53</td>\n",
       "      <td>4</td>\n",
       "      <td>84</td>\n",
       "      <td>269</td>\n",
       "    </tr>\n",
       "  </tbody>\n",
       "</table>\n",
       "</div>"
      ],
      "text/plain": [
       "     Unnamed: 0                                              title  \\\n",
       "431         432                                              Start   \n",
       "255         256                                   Not About Angels   \n",
       "186         187                                              Clown   \n",
       "210         211                                          All of Me   \n",
       "96           97                                       Turning Page   \n",
       "436         437                      Beautiful Birds (feat. Birdy)   \n",
       "52           53                                   Someone Like You   \n",
       "330         331                                      Mark My Words   \n",
       "276         277                                    FourFiveSeconds   \n",
       "398         399                                          All I Ask   \n",
       "473         474                                          All I Ask   \n",
       "249         250                                      Say Something   \n",
       "284         285                                      Night Changes   \n",
       "44           45                                        You Lost Me   \n",
       "505         506                                            Free Me   \n",
       "260         261                     Tee Shirt - Soundtrack Version   \n",
       "271         272                                      Love Yourself   \n",
       "364         365                                      Love Yourself   \n",
       "572         573                                           Memories   \n",
       "36           37  Bound To You - Burlesque Original Motion Pictu...   \n",
       "559         560                      Walk On Water (feat. Beyoncé)   \n",
       "329         330                       What Do You Mean? - Acoustic   \n",
       "528         529                Perfect Duet (Ed Sheeran & Beyoncé)   \n",
       "574         575                                  Someone You Loved   \n",
       "352         353                                            St Jude   \n",
       "8             9         Empire State of Mind (Part II) Broken Down   \n",
       "94           95                                      Jar of Hearts   \n",
       "422         423  Wish That You Were Here - From “Miss Peregrine...   \n",
       "560         561                                          This Town   \n",
       "424         425                                             Change   \n",
       "192         193  Atlas - From “The Hunger Games: Catching Fire”...   \n",
       "273         274                                  Take Me To Church   \n",
       "411         412                                    Don't Be A Fool   \n",
       "279         280                                  What Do You Mean?   \n",
       "211         212                                       Stay With Me   \n",
       "499         500                    Lust for Life (with The Weeknd)   \n",
       "573         574                                Lose You To Love Me   \n",
       "443         444                                       Shape of You   \n",
       "592         593                     Girls Like You (feat. Cardi B)   \n",
       "309         310                                           Trumpets   \n",
       "538         539                               Youth (feat. Khalid)   \n",
       "103         104                      Muny - Album Version (Edited)   \n",
       "578         579                             Trampoline (with ZAYN)   \n",
       "269         270                               I'm Not The Only One   \n",
       "\n",
       "                     artist                top genre  year  bpm  nrgy  dnce  \\\n",
       "431             John Legend               neo mellow  2016  110     4    52   \n",
       "255                   Birdy               neo mellow  2014  116    14    41   \n",
       "186             Emeli Sandé                dance pop  2013  130    23    45   \n",
       "210             John Legend               neo mellow  2014  120    26    42   \n",
       "96         Sleeping At Last             acoustic pop  2011  125    38    30   \n",
       "436               Passenger                 folk-pop  2016   86    17    39   \n",
       "52                    Adele             british soul  2011  135    33    56   \n",
       "330           Justin Bieber             canadian pop  2015  114    26    38   \n",
       "276                 Rihanna            barbadian pop  2015  206    27    58   \n",
       "398                   Adele             british soul  2016  142    28    59   \n",
       "473                   Adele             british soul  2017  142    28    59   \n",
       "249       A Great Big World               neo mellow  2014  138    15    45   \n",
       "284           One Direction                 boy band  2015  120    52    67   \n",
       "44       Christina Aguilera                dance pop  2010   43    39    23   \n",
       "505                     Sia         australian dance  2017   87    46    27   \n",
       "260                   Birdy               neo mellow  2014   76    34    68   \n",
       "271           Justin Bieber             canadian pop  2015  100    38    61   \n",
       "364           Justin Bieber             canadian pop  2016  100    38    61   \n",
       "572                Maroon 5                      pop  2019   91    32    76   \n",
       "36       Christina Aguilera                dance pop  2010  164    41    29   \n",
       "559                  Eminem          detroit hip hop  2018   82    44    48   \n",
       "329           Justin Bieber             canadian pop  2015  125    36    77   \n",
       "528              Ed Sheeran                      pop  2018   95    30    59   \n",
       "574           Lewis Capaldi                      pop  2019  110    41    50   \n",
       "352  Florence + The Machine                  art pop  2015  117    43    26   \n",
       "8               Alicia Keys                  hip pop  2010   93    37    48   \n",
       "94          Christina Perri                dance pop  2011   75    35    35   \n",
       "422  Florence + The Machine                  art pop  2016   94    57    37   \n",
       "560             Niall Horan                dance pop  2018  112    41    68   \n",
       "424      Christina Aguilera                dance pop  2016   82    54    62   \n",
       "192                Coldplay           permanent wave  2013  136    45    28   \n",
       "273                  Hozier  irish singer-songwriter  2015  129    66    57   \n",
       "411            Shawn Mendes             canadian pop  2016  175    34    47   \n",
       "279           Justin Bieber             canadian pop  2015  125    57    85   \n",
       "211               Sam Smith                      pop  2014   84    42    42   \n",
       "499            Lana Del Rey                  art pop  2017  100    67    51   \n",
       "573            Selena Gomez                dance pop  2019  102    34    51   \n",
       "443              Ed Sheeran                      pop  2017   96    65    83   \n",
       "592                Maroon 5                      pop  2019  125    54    85   \n",
       "309            Jason Derulo                dance pop  2015   82    70    63   \n",
       "538            Shawn Mendes             canadian pop  2018  100    60    53   \n",
       "103             Nicki Minaj                dance pop  2011   98    72    80   \n",
       "578                   SHAED               electropop  2019  127    46    62   \n",
       "269               Sam Smith                      pop  2015   82    49    68   \n",
       "\n",
       "     dB  live  val  dur  acous  spch  pop   id  \n",
       "431 -15     9   26  310     99     4   47  431  \n",
       "255 -10     9   23  190     97     4   56  255  \n",
       "186  -8    11   23  221     92     4   60  186  \n",
       "210  -7    13   33  270     92     3   86  210  \n",
       "96   -8    11   19  255     91     3   46   96  \n",
       "436 -13    11   14  214     91     3   36  436  \n",
       "52   -8    10   28  285     89     3   80   52  \n",
       "330  -9    17   52  134     88     3   63  330  \n",
       "276  -6    13   35  188     88     5   80  276  \n",
       "398  -5    15   34  272     88     3   71  398  \n",
       "473  -5    15   34  272     88     3   71  473  \n",
       "249  -9     9    9  229     87     3   61  249  \n",
       "284  -8    12   37  227     86     4   77  284  \n",
       "44   -6    14    7  257     85     4   56   44  \n",
       "505  -4    14   21  286     85     3   44  505  \n",
       "260  -9     9   56  160     84     3   49  260  \n",
       "271 -10    28   52  234     84    44   83  271  \n",
       "364 -10    28   52  234     84    44   83  364  \n",
       "572  -7     8   57  189     84     5   99  572  \n",
       "36   -5    13    7  264     83     3   61   36  \n",
       "559 -10    64   62  304     81    24   65  559  \n",
       "329 -11    10   76  204     79     4   64  329  \n",
       "528  -7    12   36  260     78     3   78  528  \n",
       "574  -6    11   45  182     75     3   96  574  \n",
       "352 -11    11    9  225     75     3   47  352  \n",
       "8    -8    12   14  216     74     3   76    8  \n",
       "94   -6    12    9  247     73     3   50   94  \n",
       "422  -6    13   12  403     72     3   57  422  \n",
       "560  -8    12   20  233     70     3   64  560  \n",
       "424  -6    13   20  187     68     8   54  424  \n",
       "192  -8    11   11  236     63     3   55  192  \n",
       "273  -5    12   44  242     63     5   81  273  \n",
       "411  -6    10   27  216     60     4   65  411  \n",
       "279  -8     8   79  206     59    10   79  279  \n",
       "211  -6    11   18  173     59     4   85  211  \n",
       "499  -9    36   27  264     58     6   54  499  \n",
       "573  -9    21    9  206     58     4   97  573  \n",
       "443  -3     9   93  234     58     8   87  443  \n",
       "592  -7    13   45  236     57     5   81  592  \n",
       "309  -5    10   64  217     56    24   69  309  \n",
       "538  -7    13   32  191     56    12   75  538  \n",
       "103  -5    19   53  227     56    33    7  103  \n",
       "578  -6    14   50  184     56     3   92  578  \n",
       "269  -6     8   49  239     53     4   84  269  "
      ]
     },
     "execution_count": 92,
     "metadata": {},
     "output_type": "execute_result"
    }
   ],
   "source": [
    "all_top_songs.sort_values('acous', ascending=False).head(44)"
   ]
  },
  {
   "cell_type": "markdown",
   "id": "67903625",
   "metadata": {},
   "source": [
    "There are a total of 603 songs in the dataset, hence the percentage of acoustic songs are:\n",
    "    \n",
    "44/603 = 0.07\n",
    "\n",
    "#### 7% of songs are acoustic."
   ]
  },
  {
   "cell_type": "markdown",
   "id": "5c773c95",
   "metadata": {},
   "source": [
    "## Which year’s songs have the highest amount of spoken word in the song?"
   ]
  },
  {
   "cell_type": "markdown",
   "id": "337a9dfb",
   "metadata": {},
   "source": [
    "The code below lists the different years of songs present in the dataset by the average number of spoken words."
   ]
  },
  {
   "cell_type": "code",
   "execution_count": 51,
   "id": "7ce943ad",
   "metadata": {},
   "outputs": [
    {
     "data": {
      "text/plain": [
       "8.882352941176471"
      ]
     },
     "execution_count": 51,
     "metadata": {},
     "output_type": "execute_result"
    }
   ],
   "source": [
    "all_top_songs[all_top_songs['year'] == 2010].spch.mean()"
   ]
  },
  {
   "cell_type": "markdown",
   "id": "70688b28",
   "metadata": {},
   "source": [
    "The average amount of spoken words in songs in 2010 was 8.88."
   ]
  },
  {
   "cell_type": "code",
   "execution_count": 52,
   "id": "5acdb059",
   "metadata": {},
   "outputs": [
    {
     "data": {
      "text/plain": [
       "9.660377358490566"
      ]
     },
     "execution_count": 52,
     "metadata": {},
     "output_type": "execute_result"
    }
   ],
   "source": [
    "all_top_songs[all_top_songs['year'] == 2011].spch.mean()"
   ]
  },
  {
   "cell_type": "markdown",
   "id": "7c506d26",
   "metadata": {},
   "source": [
    "The average amount of spoken words in songs in 2011 was 9.66."
   ]
  },
  {
   "cell_type": "code",
   "execution_count": 61,
   "id": "d8997b80",
   "metadata": {},
   "outputs": [
    {
     "data": {
      "text/plain": [
       "5.8"
      ]
     },
     "execution_count": 61,
     "metadata": {},
     "output_type": "execute_result"
    }
   ],
   "source": [
    "all_top_songs[all_top_songs['year'] == 2012].spch.mean()"
   ]
  },
  {
   "cell_type": "markdown",
   "id": "99e30883",
   "metadata": {},
   "source": [
    "The average amount of spoken words in songs in 2012 was 5.8."
   ]
  },
  {
   "cell_type": "code",
   "execution_count": 54,
   "id": "f58fcac5",
   "metadata": {},
   "outputs": [
    {
     "data": {
      "text/plain": [
       "8.309859154929578"
      ]
     },
     "execution_count": 54,
     "metadata": {},
     "output_type": "execute_result"
    }
   ],
   "source": [
    "all_top_songs[all_top_songs['year'] == 2013].spch.mean()"
   ]
  },
  {
   "cell_type": "markdown",
   "id": "691f615a",
   "metadata": {},
   "source": [
    "The average amount of spoken words in songs in 2013 was 8.31."
   ]
  },
  {
   "cell_type": "code",
   "execution_count": 65,
   "id": "cd5934fa",
   "metadata": {},
   "outputs": [
    {
     "data": {
      "text/plain": [
       "8.672413793103448"
      ]
     },
     "execution_count": 65,
     "metadata": {},
     "output_type": "execute_result"
    }
   ],
   "source": [
    "all_top_songs[all_top_songs['year'] == 2014].spch.mean()"
   ]
  },
  {
   "cell_type": "markdown",
   "id": "7f5fcaf6",
   "metadata": {},
   "source": [
    "The average amount of spoken words in songs in 2014 was 8.67."
   ]
  },
  {
   "cell_type": "code",
   "execution_count": 56,
   "id": "84dba75e",
   "metadata": {},
   "outputs": [
    {
     "data": {
      "text/plain": [
       "7.052631578947368"
      ]
     },
     "execution_count": 56,
     "metadata": {},
     "output_type": "execute_result"
    }
   ],
   "source": [
    "all_top_songs[all_top_songs['year'] == 2015].spch.mean()"
   ]
  },
  {
   "cell_type": "markdown",
   "id": "dfcb7a8f",
   "metadata": {},
   "source": [
    "The average amount of spoken words in songs in 2015 was 7.05."
   ]
  },
  {
   "cell_type": "code",
   "execution_count": 57,
   "id": "af3b267a",
   "metadata": {},
   "outputs": [
    {
     "data": {
      "text/plain": [
       "8.3625"
      ]
     },
     "execution_count": 57,
     "metadata": {},
     "output_type": "execute_result"
    }
   ],
   "source": [
    "all_top_songs[all_top_songs['year'] == 2016].spch.mean()"
   ]
  },
  {
   "cell_type": "markdown",
   "id": "f44e2406",
   "metadata": {},
   "source": [
    "The average amount of spoken words in songs in 2016 was 8.36."
   ]
  },
  {
   "cell_type": "code",
   "execution_count": 58,
   "id": "128859eb",
   "metadata": {},
   "outputs": [
    {
     "data": {
      "text/plain": [
       "9.784615384615385"
      ]
     },
     "execution_count": 58,
     "metadata": {},
     "output_type": "execute_result"
    }
   ],
   "source": [
    "all_top_songs[all_top_songs['year'] == 2017].spch.mean()"
   ]
  },
  {
   "cell_type": "markdown",
   "id": "64d05eb9",
   "metadata": {},
   "source": [
    "The average amount of spoken words in songs in 2017 was 9.78."
   ]
  },
  {
   "cell_type": "code",
   "execution_count": 66,
   "id": "e14c7d59",
   "metadata": {},
   "outputs": [
    {
     "data": {
      "text/plain": [
       "8.625"
      ]
     },
     "execution_count": 66,
     "metadata": {},
     "output_type": "execute_result"
    }
   ],
   "source": [
    "all_top_songs[all_top_songs['year'] == 2018].spch.mean()"
   ]
  },
  {
   "cell_type": "markdown",
   "id": "3b8f7488",
   "metadata": {},
   "source": [
    "The average amount of spoken words in songs in 2018 was 8.63."
   ]
  },
  {
   "cell_type": "code",
   "execution_count": 60,
   "id": "065d51eb",
   "metadata": {},
   "outputs": [
    {
     "data": {
      "text/plain": [
       "8.129032258064516"
      ]
     },
     "execution_count": 60,
     "metadata": {},
     "output_type": "execute_result"
    }
   ],
   "source": [
    "all_top_songs[all_top_songs['year'] == 2019].spch.mean()"
   ]
  },
  {
   "cell_type": "markdown",
   "id": "2ad3ad87",
   "metadata": {},
   "source": [
    "The average amount of spoken words in songs in 2019 was 8.13."
   ]
  },
  {
   "cell_type": "markdown",
   "id": "f798233d",
   "metadata": {},
   "source": [
    "#### 2017 had the highest amount of spoken words in a song on average, of around 9.78 words."
   ]
  },
  {
   "cell_type": "markdown",
   "id": "c8740b84",
   "metadata": {},
   "source": [
    "## Create a single CSV"
   ]
  },
  {
   "cell_type": "markdown",
   "id": "a05a814f",
   "metadata": {},
   "source": [
    "The code below exports all CSVs into one single CSV."
   ]
  },
  {
   "cell_type": "code",
   "execution_count": null,
   "id": "42a4f038",
   "metadata": {},
   "outputs": [],
   "source": [
    "all_csvs.to_csv('top_spotify_songs.csv')"
   ]
  }
 ],
 "metadata": {
  "kernelspec": {
   "display_name": "Python 3 (ipykernel)",
   "language": "python",
   "name": "python3"
  },
  "language_info": {
   "codemirror_mode": {
    "name": "ipython",
    "version": 3
   },
   "file_extension": ".py",
   "mimetype": "text/x-python",
   "name": "python",
   "nbconvert_exporter": "python",
   "pygments_lexer": "ipython3",
   "version": "3.11.3"
  }
 },
 "nbformat": 4,
 "nbformat_minor": 5
}
